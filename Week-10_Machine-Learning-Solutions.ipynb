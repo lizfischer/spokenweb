{
cells: 
[
{
cell_type: "markdown",
metadata: { },
source: 
[
"# *Unsupervised learning: Latent Dirichlet allocation (LDA) topic modeling*"
]
},
{
cell_type: "code",
execution_count: 1,
metadata: { },
outputs: [ ],
source: 
[
"## Install a Python package for LDA
",
"# http://pythonhosted.org/lda/getting_started.html
",
"
",
"!pip3 install lda"
]
},
{
cell_type: "code",
execution_count: 2,
metadata: { },
outputs: [ ],
source: 
[
"## Importing basic packages
",
"
",
"import os
",
"import numpy as np"
]
},
{
cell_type: "code",
execution_count: 3,
metadata: { },
outputs: [ ],
source: 
[
"## Downloading 'Essays' by Ralph Waldo Emerson
",
"
",
"os.chdir('/sharedfolder/')
",
"
",
"!wget http://www.gutenberg.org/cache/epub/16643/pg16643.txt"
]
},
{
cell_type: "code",
execution_count: 4,
metadata: { },
outputs: [ ],
source: 
[
"## Loading the text
",
"
",
"text_path = 'pg16643.txt'
",
"
",
"text_data = open(text_path).read()"
]
},
{
cell_type: "code",
execution_count: 5,
metadata: { },
outputs: 
[
{
data: 
{
text/plain: 
[
"22"
]
},
execution_count: 5,
metadata: { },
output_type: "execute_result"
}
],
source: 
[
"## Dividing the document into segments, with the aim of extracting individual essays
",
"
",
"len(text_data.split('\n\n\n\n\n'))"
]
},
{
cell_type: "code",
execution_count: 7,
metadata: { },
outputs: 
[
{
name: "stdout",
output_type: "stream",
text: 
[
"11
"
]
}
],
source: 
[
"## Creating a list of essays
",
"
",
"document_list = text_data.split('\n\n\n\n\n')[9:20]
",
"
",
"print(len(document_list))"
]
},
{
cell_type: "code",
execution_count: 8,
metadata: { },
outputs: [ ],
source: 
[
"## Importing NLTK stop words
",
"
",
"from nltk.corpus import stopwords
",
" 
",
"stop_words = set(stopwords.words('english'))
",
"
",
"#stop_words"
]
},
{
cell_type: "code",
execution_count: 9,
metadata: { },
outputs: [ ],
source: 
[
"## Importing Python punctuation set
",
"
",
"import string
",
"
",
"#string.punctuation"
]
},
{
cell_type: "markdown",
metadata: { },
source: 
[
"### ▷Assignment
",
"
",
"    Apply a stemming step to each word before vectorizing the text.
",
"    See example stemming code in the following cell."
]
},
{
cell_type: "code",
execution_count: 10,
metadata: { },
outputs: [ ],
source: 
[
"## Tokenizing, stemming, and removing stop words from our list of essays
",
"
",
"from nltk.tokenize import word_tokenize
",
"
",
"from nltk.stem.porter import PorterStemmer
",
"
",
"stemmer = PorterStemmer()
",
"
",
"documents_filtered = []
",
"
",
"for document in document_list:
",
"    token_list = word_tokenize(document.lower())
",
"    tokens_filtered = [item for item in token_list if (item not in stop_words)&(item not in string.punctuation)]
",
"    tokens_stemmed = [stemmer.stem(item) for item in tokens_filtered]     ###  <--- STEMMING STEP
",
"    documents_filtered.append(' '.join(tokens_stemmed))"
]
},
{
cell_type: "code",
execution_count: 11,
metadata: { },
outputs: [ ],
source: 
[
"## Vectorizing preprocessed essays
",
"
",
"from sklearn.feature_extraction.text import CountVectorizer
",
"
",
"vectorizer = CountVectorizer()
",
"
",
"X = vectorizer.fit_transform(documents_filtered) "
]
},
{
cell_type: "code",
execution_count: 12,
metadata: { },
outputs: [ ],
source: 
[
"## Creating a vocabulary list corresponding to the vectors we created above
",
"
",
"vocabulary = vectorizer.get_feature_names()
",
"
",
"#vocabulary[1140:1160]"
]
},
{
cell_type: "code",
execution_count: 13,
metadata: { },
outputs: [ ],
source: 
[
"## Initializing an LDA model: 10 topics and 1000 iterations
",
"
",
"import lda
",
"
",
"model = lda.LDA(n_topics=10, n_iter=1000, random_state=1)"
]
},
{
cell_type: "code",
execution_count: 14,
metadata: { },
outputs: 
[
{
name: "stderr",
output_type: "stream",
text: 
[
"INFO:lda:n_documents: 11
",
"INFO:lda:vocab_size: 6723
",
"INFO:lda:n_words: 33319
",
"INFO:lda:n_topics: 10
",
"INFO:lda:n_iter: 1000
",
"INFO:lda:<0> log likelihood: -386710
",
"INFO:lda:<10> log likelihood: -306919
",
"INFO:lda:<20> log likelihood: -300273
",
"INFO:lda:<30> log likelihood: -297565
",
"INFO:lda:<40> log likelihood: -295762
",
"INFO:lda:<50> log likelihood: -295375
",
"INFO:lda:<60> log likelihood: -294941
",
"INFO:lda:<70> log likelihood: -295211
",
"INFO:lda:<80> log likelihood: -295572
",
"INFO:lda:<90> log likelihood: -295578
",
"INFO:lda:<100> log likelihood: -294955
",
"INFO:lda:<110> log likelihood: -294397
",
"INFO:lda:<120> log likelihood: -294157
",
"INFO:lda:<130> log likelihood: -294274
",
"INFO:lda:<140> log likelihood: -294048
",
"INFO:lda:<150> log likelihood: -293620
",
"INFO:lda:<160> log likelihood: -293353
",
"INFO:lda:<170> log likelihood: -293277
",
"INFO:lda:<180> log likelihood: -292928
",
"INFO:lda:<190> log likelihood: -292638
",
"INFO:lda:<200> log likelihood: -292372
",
"INFO:lda:<210> log likelihood: -292941
",
"INFO:lda:<220> log likelihood: -293367
",
"INFO:lda:<230> log likelihood: -292832
",
"INFO:lda:<240> log likelihood: -292633
",
"INFO:lda:<250> log likelihood: -292518
",
"INFO:lda:<260> log likelihood: -292622
",
"INFO:lda:<270> log likelihood: -292382
",
"INFO:lda:<280> log likelihood: -292600
",
"INFO:lda:<290> log likelihood: -292389
",
"INFO:lda:<300> log likelihood: -292867
",
"INFO:lda:<310> log likelihood: -292776
",
"INFO:lda:<320> log likelihood: -293097
",
"INFO:lda:<330> log likelihood: -292245
",
"INFO:lda:<340> log likelihood: -292380
",
"INFO:lda:<350> log likelihood: -292160
",
"INFO:lda:<360> log likelihood: -292144
",
"INFO:lda:<370> log likelihood: -292400
",
"INFO:lda:<380> log likelihood: -292231
",
"INFO:lda:<390> log likelihood: -292488
",
"INFO:lda:<400> log likelihood: -292626
",
"INFO:lda:<410> log likelihood: -292404
",
"INFO:lda:<420> log likelihood: -292403
",
"INFO:lda:<430> log likelihood: -292317
",
"INFO:lda:<440> log likelihood: -292139
",
"INFO:lda:<450> log likelihood: -292253
",
"INFO:lda:<460> log likelihood: -292182
",
"INFO:lda:<470> log likelihood: -292471
",
"INFO:lda:<480> log likelihood: -292689
",
"INFO:lda:<490> log likelihood: -292852
",
"INFO:lda:<500> log likelihood: -292688
",
"INFO:lda:<510> log likelihood: -292543
",
"INFO:lda:<520> log likelihood: -292311
",
"INFO:lda:<530> log likelihood: -292292
",
"INFO:lda:<540> log likelihood: -292503
",
"INFO:lda:<550> log likelihood: -292247
",
"INFO:lda:<560> log likelihood: -292009
",
"INFO:lda:<570> log likelihood: -292034
",
"INFO:lda:<580> log likelihood: -291971
",
"INFO:lda:<590> log likelihood: -292169
",
"INFO:lda:<600> log likelihood: -291610
",
"INFO:lda:<610> log likelihood: -291974
",
"INFO:lda:<620> log likelihood: -292110
",
"INFO:lda:<630> log likelihood: -292364
",
"INFO:lda:<640> log likelihood: -292126
",
"INFO:lda:<650> log likelihood: -292086
",
"INFO:lda:<660> log likelihood: -292528
",
"INFO:lda:<670> log likelihood: -292487
",
"INFO:lda:<680> log likelihood: -292361
",
"INFO:lda:<690> log likelihood: -292209
",
"INFO:lda:<700> log likelihood: -292154
",
"INFO:lda:<710> log likelihood: -292354
",
"INFO:lda:<720> log likelihood: -292458
",
"INFO:lda:<730> log likelihood: -292325
",
"INFO:lda:<740> log likelihood: -292186
",
"INFO:lda:<750> log likelihood: -292208
",
"INFO:lda:<760> log likelihood: -291895
",
"INFO:lda:<770> log likelihood: -292539
",
"INFO:lda:<780> log likelihood: -292066
",
"INFO:lda:<790> log likelihood: -291856
",
"INFO:lda:<800> log likelihood: -292146
",
"INFO:lda:<810> log likelihood: -292271
",
"INFO:lda:<820> log likelihood: -292077
",
"INFO:lda:<830> log likelihood: -292155
",
"INFO:lda:<840> log likelihood: -291915
",
"INFO:lda:<850> log likelihood: -292003
",
"INFO:lda:<860> log likelihood: -292017
",
"INFO:lda:<870> log likelihood: -291875
",
"INFO:lda:<880> log likelihood: -292078
",
"INFO:lda:<890> log likelihood: -292069
",
"INFO:lda:<900> log likelihood: -292000
",
"INFO:lda:<910> log likelihood: -292125
",
"INFO:lda:<920> log likelihood: -292170
",
"INFO:lda:<930> log likelihood: -292219
",
"INFO:lda:<940> log likelihood: -291816
",
"INFO:lda:<950> log likelihood: -291795
",
"INFO:lda:<960> log likelihood: -291946
",
"INFO:lda:<970> log likelihood: -291548
",
"INFO:lda:<980> log likelihood: -291496
",
"INFO:lda:<990> log likelihood: -291650
",
"INFO:lda:<999> log likelihood: -291970
"
]
},
{
data: 
{
text/plain: 
[
"<lda.lda.LDA at 0x7fe2f5bd2b70>"
]
},
execution_count: 14,
metadata: { },
output_type: "execute_result"
}
],
source: 
[
"## Fitting the model using our list of vectors
",
"
",
"model.fit(X)"
]
},
{
cell_type: "code",
execution_count: 15,
metadata: { },
outputs: 
[
{
name: "stdout",
output_type: "stream",
text: 
[
"Topic 0:
",
"man men world must shall know soul good like come god alway without well love noth say part feel self look present whole right univers act said stand fear perfect divin take show individu lose reason highest face particular pleasur seek wise hear offic believ someth valu measur element moment
",
"
",
"Topic 1:
",
"one man thought time see mind find life day new action truth book geniu hand think true last human state work art light ever learn read becom write fact age lie scholar hope live alreadi past privat begin feet influenc eye scienc thousand event literatur inspir draw longer young lost
",
"
",
"Topic 2:
",
"live work appear done somewhat follow given suffer nation opinion line hero prayer take voic seem war heroism precis lord reli teach percept interest need prais travel home brave die number temper ear tri custom heroic gave wife associ asham color standard scorn enter conform hospit text palac truli hast
",
"
",
"Topic 3:
",
"poet shakspear histori origin peopl power men king whether import account pictur fit tell full say second music english speech moon question mountain singl rememb direct modern written translat languag author crowd centuri secur critic writer answer fame realiti gone wonder convict touch occas splendor kept vers father subordin brain
",
"
",
"Topic 4:
",
"natur us seem end littl also water rich still eye object gener common one back earth religion air matter citi enough would turn secret might bodi easili goe anim fall aim field open heaven women consid cold tree system wood arriv plant creatur suppos morn shame sight round greater dream
",
"
",
"Topic 5:
",
"law virtu sens make word put to let day caus forc prudenc wisdom whilst properti call eye seen ground fact organ health consist money effect grow wait child garden symbol sun higher morrow rise sacr climat sound space command bread race neighbor final enjoy figur stock fire keep percept crime
",
"
",
"Topic 6:
",
"great may yet never let much first heart old make new mani charact mean relat go two convers better speak year best pass spirit hour even exist use high play could parti thi affect imagin ask degre experi fill within real nobl long alon born duti least often fals hundr
",
"
",
"Topic 7:
",
"us friend person beauti give though hous love less leav gift meet want friendship receiv wish flower sweet equal respect compani fine therefor poor one bring sort door eat serv thou other social poetri soon hate admir paint expect pleas hold benefit rule mine quit dare requir wine pure content
",
"
",
"Topic 8:
",
"everi thing would power form life made anoth see whose side thu far get debt everyth good run wit moral success circumst need pay compens appear etern knowledg gain doctrin point head youth condit histori evil wealth sea wrong flow rest proverb fact remain activ limit resist solitud church labor
",
"
",
"Topic 9:
",
"societi name class fashion good manner place certain countri found word express circl master gentleman polit sentiment sympathi way constitut excel tast whatev call woman blood cast bad qualiti courtesi children exclud breed point distinct behavior fox note heroic convent romanc napoleon anoth happi result readili honor although homag ad
",
"
"
]
}
],
source: 
[
"## Viewing the top 50 words in each 'topic'
",
"
",
"topic_word = model.topic_word_
",
"
",
"n_top_words = 50
",
"
",
"for i, topic_distribution in enumerate(topic_word):
",
"    topic_words = np.array(vocabulary)[np.argsort(topic_distribution)][:-(n_top_words+1):-1]
",
"    print('Topic ' + str(i) + ':')
",
"    print(' '.join(topic_words))
",
"    print()"
]
},
{
cell_type: "code",
execution_count: 16,
metadata: { },
outputs: 
[
{
name: "stdout",
output_type: "stream",
text: 
[
"SHAKSPEARE;[525] OR, THE POET
",
"
",
"[Transcriber's Note: Shakspeare is spelled as "Shakspeare" as well as
",
""Shakespeare" in this book. The original spellings have been retained.]
",
"
",
"
",
"1. Great men are more distinguished by range and extent, than by
",
"originality. If we require the originality which consists in weaving,
",
"like a spider, their web from their own bowels; in finding clay, and
",
"making bricks, and building the house; no great men are original. Nor
",
"does valuable originality consist in unlikeness to 
"
]
},
{
data: 
{
text/plain: 
[
"array([ 0.07895359,  0.14812297,  0.08368312,  0.28912208,  0.05530594,
",
"        0.03668342,  0.10999113,  0.07924919,  0.06979013,  0.04909843])"
]
},
execution_count: 16,
metadata: { },
output_type: "execute_result"
}
],
source: 
[
"## Viewing the breakdown of topics present in a single document (in this case, document #8)
",
"
",
"print(document_list[8][:500])
",
"
",
"model.doc_topic_[8]"
]
},
{
cell_type: "code",
execution_count: 17,
metadata: { },
outputs: 
[
{
data: 
{
text/plain: 
[
"[('Topic 0', 0.078953591486845998),
",
" ('Topic 1', 0.14812296778007686),
",
" ('Topic 2', 0.083683121489801962),
",
" ('Topic 3', 0.2891220809932013),
",
" ('Topic 4', 0.05530594147206621),
",
" ('Topic 5', 0.036683417085427134),
",
" ('Topic 6', 0.10999113213124447),
",
" ('Topic 7', 0.079249187112030745),
",
" ('Topic 8', 0.069790127106118829),
",
" ('Topic 9', 0.049098433343186518)]"
]
},
execution_count: 17,
metadata: { },
output_type: "execute_result"
}
],
source: 
[
"## Viewing topics present in a single document alongside text labels for each topic
",
"
",
"topic_titles = ['Topic 0', 'Topic 1', 'Topic 2', 'Topic 3', 'Topic 4', 'Topic 5', 'Topic 6', 'Topic 7', 'Topic 8', 'Topic 9']
",
"
",
"topic_values = model.doc_topic_[8]
",
"
",
"list(zip(topic_titles, topic_values))"
]
},
{
cell_type: "code",
execution_count: 18,
metadata: { },
outputs: 
[
{
data: 
{
text/plain: 
[
"[('Topic 3', 0.2891220809932013),
",
" ('Topic 1', 0.14812296778007686),
",
" ('Topic 6', 0.10999113213124447),
",
" ('Topic 2', 0.083683121489801962),
",
" ('Topic 7', 0.079249187112030745),
",
" ('Topic 0', 0.078953591486845998),
",
" ('Topic 8', 0.069790127106118829),
",
" ('Topic 4', 0.05530594147206621),
",
" ('Topic 9', 0.049098433343186518),
",
" ('Topic 5', 0.036683417085427134)]"
]
},
execution_count: 18,
metadata: { },
output_type: "execute_result"
}
],
source: 
[
"## Viewing a ranked list of the most prominent topics present in a document
",
"
",
"from operator import itemgetter
",
"
",
"sorted(list(zip(topic_titles, topic_values)), key=itemgetter(1))[::-1]"
]
},
{
cell_type: "code",
execution_count: null,
metadata: { },
outputs: [ ],
source: [ ]
},
{
cell_type: "markdown",
metadata: { },
source: 
[
"# *Supervised learning: Naive Bayes classification*"
]
},
{
cell_type: "code",
execution_count: 19,
metadata: { },
outputs: [ ],
source: 
[
"## Download sample text corpora from GitHub, then unzip.
",
"
",
"os.chdir('/sharedfolder/')
",
"
",
"## Uncomment the lines below if you need to re-download test corpora we used last week.
",
"
",
"#!wget -N https://github.com/pcda17/pcda17.github.io/blob/master/week/8/Sample_corpora.zip?raw=true -O Sample_corpora.zip
",
"#!unzip -o Sample_corpora.zip"
]
},
{
cell_type: "code",
execution_count: 20,
metadata: { },
outputs: 
[
{
name: "stdout",
output_type: "stream",
text: 
[
"13
"
]
}
],
source: 
[
"## Loading Melville novels
",
"
",
"os.chdir('/sharedfolder/Sample_corpora/Herman_Melville/')
",
"
",
"melville_texts = []
",
"
",
"for filename in os.listdir('./'):
",
"    text_data = open(filename).read().replace('\n', ' ')
",
"    melville_texts.append(text_data)
",
"
",
"print(len(melville_texts))"
]
},
{
cell_type: "code",
execution_count: 21,
metadata: { },
outputs: 
[
{
name: "stdout",
output_type: "stream",
text: 
[
"6
"
]
}
],
source: 
[
"## Loading Austen novels
",
"
",
"os.chdir('/sharedfolder/Sample_corpora/Jane_Austen/')
",
"
",
"austen_texts = []
",
"
",
"for filename in os.listdir('./'):
",
"    text_data = open(filename).read().replace('\n', ' ')
",
"    austen_texts.append(text_data)
",
"
",
"print(len(austen_texts))"
]
},
{
cell_type: "code",
execution_count: 22,
metadata: { },
outputs: [ ],
source: 
[
"## Removing the last novel from each list so we can use it to test our classifier
",
"
",
"melville_train_texts = melville_texts[:-1]
",
"austen_train_texts = austen_texts[:-1]
",
"
",
"melville_test_text = melville_texts[-1]
",
"austen_test_text = austen_texts[-1]"
]
},
{
cell_type: "code",
execution_count: 23,
metadata: { },
outputs: 
[
{
name: "stdout",
output_type: "stream",
text: 
[
"51940
"
]
},
{
data: 
{
text/plain: 
[
"'He discoursed imperially with his chiefs; nodded his sovereign will to his pages; called for another gourd of wine; in all respects carrying his royalty bravely.'"
]
},
execution_count: 23,
metadata: { },
output_type: "execute_result"
}
],
source: 
[
"## Creating a master list of Melville sentences
",
"
",
"from nltk.tokenize import sent_tokenize
",
"
",
"melville_combined_texts = ' '.join(melville_train_texts)
",
"
",
"melville_sentences = sent_tokenize(melville_combined_texts)
",
"
",
"print(len(melville_sentences))
",
"
",
"melville_sentences[9999]"
]
},
{
cell_type: "code",
execution_count: 24,
metadata: { },
outputs: [ ],
source: 
[
"## Extracting 2000 Melville sentences at random for use as a training set
",
"
",
"import random
",
"
",
"melville_train_sentences = random.sample(melville_sentences, 2000)"
]
},
{
cell_type: "code",
execution_count: 25,
metadata: { },
outputs: 
[
{
name: "stdout",
output_type: "stream",
text: 
[
"6224
"
]
},
{
data: 
{
text/plain: 
[
"'With brown sugar, taken from the mess-chests, and hot water begged from the galley-cooks, the men made all manner of punches, toddies, and cocktails, letting fall therein a small drop of tar, like a bit of brown toast, by way of imparting a flavour.'"
]
},
execution_count: 25,
metadata: { },
output_type: "execute_result"
}
],
source: 
[
"## Creating a list of Melville sentences for our test set
",
"
",
"melville_test_sentences = sent_tokenize(melville_test_text)
",
"
",
"print(len(melville_test_sentences))
",
"
",
"melville_test_sentences[997]"
]
},
{
cell_type: "code",
execution_count: 26,
metadata: { },
outputs: 
[
{
name: "stdout",
output_type: "stream",
text: 
[
"23803
"
]
},
{
data: 
{
text/plain: 
[
"'From that time Mr. Crawford sat down likewise.'"
]
},
execution_count: 26,
metadata: { },
output_type: "execute_result"
}
],
source: 
[
"## Creating a master list of Austen sentences
",
"
",
"austen_combined_texts = ' '.join(austen_train_texts)
",
"
",
"austen_sentences = sent_tokenize(austen_combined_texts)
",
"
",
"print(len(austen_sentences))
",
"
",
"austen_sentences[8979]"
]
},
{
cell_type: "code",
execution_count: 27,
metadata: { },
outputs: [ ],
source: 
[
"## Extracting 2000 Austen sentences at random for use as a training set
",
"
",
"austen_train_sentences = random.sample(austen_sentences, 2000)"
]
},
{
cell_type: "code",
execution_count: 28,
metadata: { },
outputs: 
[
{
name: "stdout",
output_type: "stream",
text: 
[
"4835
"
]
},
{
data: 
{
text/plain: 
[
"'Mrs. Smith has this morning exercised the privilege of riches upon a poor dependent cousin, by sending me on business to London.'"
]
},
execution_count: 28,
metadata: { },
output_type: "execute_result"
}
],
source: 
[
"## Creating a list of Austen sentences for our test set
",
"
",
"austen_test_sentences = sent_tokenize(austen_test_text)
",
"
",
"print(len(austen_test_sentences))
",
"
",
"austen_test_sentences[1000]"
]
},
{
cell_type: "code",
execution_count: 29,
metadata: { },
outputs: [ ],
source: 
[
"## Combing training data
",
"combined_texts = melville_train_sentences + austen_train_sentences
",
"
",
"## Creating list of associated class values: 
",
"## 0 for Melville, 1 for Austen
",
"y = [0]*len(melville_train_sentences) + [1]*len(austen_train_sentences)"
]
},
{
cell_type: "code",
execution_count: 30,
metadata: { },
outputs: 
[
{
data: 
{
text/plain: 
[
"(4000, 10629)"
]
},
execution_count: 30,
metadata: { },
output_type: "execute_result"
}
],
source: 
[
"## Creating vectorized training set using our combined sentence list
",
"
",
"from sklearn.feature_extraction.text import CountVectorizer
",
"
",
"vectorizer = CountVectorizer()
",
"
",
"X = vectorizer.fit_transform(combined_texts).toarray()
",
"
",
"X.shape"
]
},
{
cell_type: "code",
execution_count: 31,
metadata: { },
outputs: [ ],
source: 
[
"## Training a multinomial naive Bayes classifier
",
"## X is a combined list of Melville and Austen sentences (2000 sentences from each)
",
"## y is a list of classes (0 or 1)
",
"
",
"from sklearn.naive_bayes import MultinomialNB
",
"
",
"classifier = MultinomialNB().fit(X, y)"
]
},
{
cell_type: "markdown",
metadata: { },
source: 
[
"### ▷Assignment
",
"
",
"    Write a script that prints Austen-like sentences written 
",
"    by Melville, and Melville-like sentences written by Austen."
]
},
{
cell_type: "code",
execution_count: 32,
metadata: { },
outputs: 
[
{
data: 
{
text/plain: 
[
"array([1, 1, 1, 1, 1, 1, 1, 1, 1, 1, 1, 1, 1, 1, 1, 1, 1, 1, 1, 1])"
]
},
execution_count: 32,
metadata: { },
output_type: "execute_result"
}
],
source: 
[
"## Classifying all sentences in our Austen test set
",
"# Recall that 0 means Melville & 1 means Austen
",
"
",
"austen_sentence_vectors = vectorizer.transform(austen_test_sentences)   ## Converting a list of strings to the same
",
"                                                                        ## vector format we used for our training set
",
"
",
"austen_sentence_classifications = classifier.predict(austen_sentence_vectors)   ## Classifying every sentence in the novel
",
"
",
"austen_sentence_classifications[:20]                                    ## Viewing the first 20 sentence classifications"
]
},
{
cell_type: "code",
execution_count: 33,
metadata: { },
outputs: 
[
{
name: "stdout",
output_type: "stream",
text: 
[
"Three thousand pounds!
",
"
",
"They encouraged each other now in the violence of their affliction.
",
"
",
"The agony of grief which overpowered them at first, was voluntarily renewed, was sought for, was created again and again.
",
"
",
""Fifteen years!
",
"
",
"It may be very inconvenient some years to spare a hundred, or even fifty pounds from our own expenses."
",
"
",
""Yes; and the set of breakfast china is twice as handsome as what belongs to this house.
",
"
",
"But Edward had no turn for great men or barouches.
",
"
",
""Like him!"
",
"
",
"We shall live within a few miles of each other, and shall meet every day of our lives.
",
"
",
"I have the highest opinion in the world of Edward's heart.
",
"
",
"His eyes want all that spirit, that fire, which at once announce virtue and intelligence.
",
"
",
"Like him!
",
"
",
"So far from hence!
",
"
",
"It chiefly consisted of household linen, plate, china, and books, with a handsome pianoforte of Marianne's.
",
"
",
"Many were the tears shed by them in their last adieus to a place so much beloved.
",
"
",
"After winding along it for more than a mile, they reached their own house.
",
"
",
"A small green court was the whole of its demesne in front; and a neat wicket gate admitted them into it.
",
"
",
"A narrow passage led directly through the house into the garden behind.
",
"
",
"High hills rose immediately behind, and at no great distance on each side; some of which were open downs, the others cultivated and woody.
",
"
",
"The village of Barton was chiefly on one of these hills, and formed a pleasant view from the cottage windows.
",
"
",
"The prospect in front was more extensive; it commanded the whole of the valley, and reached into the country beyond.
",
"
",
"The hills which surrounded the cottage terminated the valley in that direction; under another name, and in another course, it branched out again between two of the steepest of them.
",
"
",
"His kindness was not confined to words; for within an hour after he left them, a large basket full of garden stuff and fruit arrived from the park, which was followed before the end of the day by a present of game.
",
"
",
"The ladies had passed near it in their way along the valley, but it was screened from their view at home by the projection of a hill.
",
"
",
"He was silent and grave.
",
"
",
""Infirmity!"
",
"
",
""But he talked of flannel waistcoats," said Marianne; "and with me a flannel waistcoat is invariably connected with aches, cramps, rheumatisms, and every species of ailment that can afflict the old and the feeble."
",
"
",
"Confess, Marianne, is not there something interesting to you in the flushed cheek, hollow eye, and quick pulse of a fever?"
",
"
",
""How strange this is!
",
"
",
"The whole country about them abounded in beautiful walks.
",
"
",
"They gaily ascended the downs, rejoicing in their own penetration at every glimpse of blue sky; and when they caught in their faces the animating gales of a high south-westerly wind, they pitied the fears which had prevented their mother and Elinor from sharing such delightful sensations.
",
"
",
"Margaret agreed, and they pursued their way against the wind, resisting it with laughing delight for about twenty minutes longer, when suddenly the clouds united over their heads, and a driving rain set full in their face.-- Chagrined and surprised, they were obliged, though unwillingly, to turn back, for no shelter was nearer than their own house.
",
"
",
"One consolation however remained for them, to which the exigence of the moment gave more than usual propriety; it was that of running with all possible speed down the steep side of the hill which led immediately to their garden gate.
",
"
",
"They set off.
",
"
",
"A gentleman carrying a gun, with two pointers playing round him, was passing up the hill and within a few yards of Marianne, when her accident happened.
",
"
",
"He put down his gun and ran to her assistance.
",
"
",
""Willoughby!"
",
"
",
"A very decent shot, and there is not a bolder rider in England."
",
"
",
"But he is a pleasant, good humoured fellow, and has got the nicest little black bitch of a pointer I ever saw.
",
"
",
""Where does he come from?
",
"
",
"--  "Elinor," cried Marianne, "is this fair?
",
"
",
"are my ideas so scanty?
",
"
",
"Yet such was the case.
",
"
",
"Willoughby was out of the question.
",
"
",
"Margaret related something to her the next day, which placed this matter in a still clearer light.
",
"
",
""What is the gentleman's name?"
",
"
",
"The morning was rather favourable, though it had rained all night, as the clouds were then dispersing across the sky, and the sun frequently appeared.
",
"
",
""What is the matter with Brandon?"
",
"
",
"Come, come, this won't do, Colonel; so let us hear the truth of it."
",
"
",
"What a blow upon them all was this!
",
"
",
"He shook his head.
",
"
",
"Brandon is one of them.
",
"
",
"I shall then go post."
",
"
",
"Willoughby."
",
"
",
"On one side you look across the bowling-green, behind the house, to a beautiful hanging wood, and on the other you have a view of the church and village, and, beyond them, of those fine bold hills that we have so often admired.
",
"
",
"Poor man!
",
"
",
"They were no sooner in the passage than Marianne came hastily out of the parlour apparently in violent affliction, with her handkerchief at her eyes; and without noticing them ran up stairs.
",
"
",
""Almost this moment."
",
"
",
""This is very unfortunate.
",
"
",
"To the possibility of motives unanswerable in themselves, though unavoidably secret for a while?
",
"
",
""How strange this is!
",
"
",
""A mighty concession indeed!
",
"
",
"But why?
",
"
",
""Months!"
",
"
",
"They walked along the road through the valley, and chiefly in silence, for Marianne's MIND could not be controlled, and Elinor, satisfied with gaining one point, would not then attempt more.
",
"
",
"His air, his coat, his horse.
",
"
",
"The woods and walks thickly covered with dead leaves."
",
"
",
""It is not every one," said Elinor, "who has your passion for dead leaves."
",
"
",
"But SOMETIMES they are."
",
"
",
"And there, beneath that farthest hill, which rises with such grandeur, is our cottage."
",
"
",
""How strange!"
",
"
",
"His affections seemed to reanimate towards them all, and his interest in their welfare again became perceptible.
",
"
",
"Thank Heaven!
",
"
",
""Strange that it would!"
",
"
",
""About eighteen hundred or two thousand a year; not more than THAT."
",
"
",
"Elinor laughed.
",
"
",
""TWO thousand a year!
",
"
",
"ONE is my wealth!
",
"
",
""Hunters!"
",
"
",
"repeated Edward--"but why must you have hunters?
",
"
",
""And the bulk of your fortune would be laid out in annuities on the authors or their heirs."
",
"
",
""Undoubtedly.
",
"
",
"My doctrine has never aimed at the subjection of the understanding.
",
"
",
"Edward started--"Reserved!
",
"
",
"His gravity and thoughtfulness returned on him in their fullest extent--and he sat for some time silent and dull.
",
"
",
"I call it a very fine country--the hills are steep, the woods seem full of fine timber, and the valley looks comfortable and snug--with rich meadows and several neat farm houses scattered here and there.
",
"
",
"I like a fine prospect, but not on picturesque principles.
",
"
",
"I do not like crooked, twisted, blasted trees.
",
"
",
"I admire them much more if they are tall, straight, and flourishing.
",
"
",
""Who!
",
"
",
"This, and Marianne's blushing, gave new suspicions to Edward.
",
"
",
"He said so repeatedly; other things he said too, which marked the turn of his feelings and gave the lie to his actions.
",
"
",
"The old well-established grievance of duty against will, parent against child, was the cause of all.
",
"
",
"In feeling, in action, in condition, in every thing."
",
"
",
""Hush!
",
"
",
""Where is Marianne?
",
"
",
"all alone!
",
"
",
"Palmer?"
",
"
",
"He immediately went into the passage, opened the front door, and ushered her in himself.
",
"
",
"He then made his bow, and departed with the rest.
",
"
",
""Ah, well!
",
"
",
"Now, pray do,--and come while the Westons are with us.
",
"
",
"But, poor fellow!
",
"
",
"Palmer?"
",
"
",
"Don't palm all your abuses of languages upon me."
",
"
",
"Sometimes he won't speak to me for half a day together, and then he comes out with something so droll--all about any thing in the world."
",
"
",
"Palmer!"
",
"
",
"It is a sweet place, by all accounts."
",
"
",
"Benevolent, philanthropic man!
",
"
",
"They have brought the whole coach full of playthings for the children.
",
"
",
""Poor little creatures!"
",
"
",
"said Lucy Steele.
",
"
",
""Lord!
",
"
",
""Ferrars!"
",
"
",
"Where did he live?
",
"
",
"Ferrars?"
",
"
",
"Ferrars."
",
"
",
""Four years!"
",
"
",
"Pratt?"
",
"
",
"Ferrars."
",
"
",
""We can mean no other," cried Lucy, smiling.
",
"
",
"Poor Edward!
",
"
",
"They then proceeded a few paces in silence.
",
"
",
"Lucy spoke first.
",
"
",
""Sometimes."
",
"
",
"repeated Lucy.
",
"
",
"[At this point in the first and second editions, Volume 1 ends.]
",
"
",
"What a softener of the heart was this persuasion!
",
"
",
"They all rose up in preparation for a round game.
",
"
",
"The remaining five were now to draw their cards.
",
"
",
"Lucy made room for her with ready attention, and the two fair rivals were thus seated side by side at the same table, and, with the utmost harmony, engaged in forwarding the same work.
",
"
",
"CHAPTER 24   In a firm, though cautious tone, Elinor thus began.
",
"
",
"Lucy went on.
",
"
",
"Lucy looked at Elinor again, and was silent.
",
"
",
"At length Lucy exclaimed with a deep sigh,  "I believe it would be the wisest way to put an end to the business at once by dissolving the engagement.
",
"
",
"Another pause therefore of many minutes' duration, succeeded this speech, and Lucy was still the first to end it.
",
"
",
""Oh, Lord!
",
"
",
"Lord bless me!
",
"
",
"This decided the matter at once.
",
"
",
"Ah!
",
"
",
"poor man!
",
"
",
"he has been dead these eight years and better.
",
"
",
"Come, come, let's have no secrets among friends."
",
"
",
"Poor souls!
",
"
",
"This weather will keep many sportsmen in the country."
",
"
",
""Ay, my dear, I'll warrant you we do.
",
"
",
"I can hardly keep my hands warm even in my muff.
",
"
",
"The clouds seem parting too, the sun will be out in a moment, and we shall have a clear afternoon."
",
"
",
"Elinor was alternately diverted and pained; but Marianne persevered, and saw every night in the brightness of the fire, and every morning in the appearance of the atmosphere, the certain symptoms of approaching frost.
",
"
",
""Good God!"
",
"
",
""For me!"
",
"
",
""Me!"
",
"
",
""Nor I," answered Marianne with energy, "our situations then are alike.
",
"
",
"And thus ended their discourse.
",
"
",
""Invited!"
",
"
",
"Will you not shake hands with me?"
",
"
",
"Tell me, Willoughby; for heaven's sake tell me, what is the matter?"
",
"
",
"This is not the place for explanations.
",
"
",
"Come, come, this won't do.
",
"
",
"Elinor could no longer witness this torrent of unresisted grief in silence.
",
"
",
"Ah!
",
"
",
""Many, many circumstances," said Elinor, solemnly.
",
"
",
"He has broken no faith with me."
",
"
",
""M.D."
",
"
",
""M.D."
",
"
",
""M.D."
",
"
",
"This lock of hair, which now he can so readily give up, was begged of me with the most earnest supplication.
",
"
",
"Again they were both silent.
",
"
",
"Who regards me?"
",
"
",
"Ay, it is but too true.
",
"
",
""Poor soul!"
",
"
",
"And the dried cherries too!
",
"
",
"Lord!
",
"
",
"But when there is plenty of money on one side, and next to none on the other, Lord bless you!
",
"
",
"Fifty thousand pounds!
",
"
",
"and by all accounts, it won't come before it's wanted; for they say he is all to pieces.
",
"
",
"dashing about with his curricle and hunters!
",
"
",
"Why don't he, in such a case, sell his horses, let his house, turn off his servants, and make a thorough reform at once?
",
"
",
"--  "And who are the Ellisons?"
",
"
",
"Lord!
",
"
",
"Poor soul!
",
"
",
"Lord!
",
"
",
"Lord!
",
"
",
"Don't pretend to defend him.
",
"
",
"Lord!
",
"
",
"Lord!
",
"
",
"A butcher hard by in the village, and the parsonage-house within a stone's throw.
",
"
",
""Ah!"
",
"
",
"The work of one moment was destroyed by the next.
",
"
",
"Our ages were nearly the same, and from our earliest years we were playfellows and friends.
",
"
",
"Ah!
",
"
",
"exclaimed Elinor.
",
"
",
"He wished him at the devil with all his heart.
",
"
",
"Such a scoundrel of a fellow!
",
"
",
"such a deceitful dog!
",
"
",
"and this was the end of it!"
",
"
",
"and the Doctor is a single man, I warrant you."
",
"
",
"'Lord!
",
"
",
"The Doctor is no beau of mine."
",
"
",
""Aye, aye, that is very pretty talking--but it won't do--the Doctor is the man, I see."
",
"
",
"Lucy was silenced.
",
"
",
"The enclosure of Norland Common, now carrying on, is a most serious drain.
",
"
",
"And then I have made a little purchase within this half year; East Kingham Farm, you must remember the place, where old Gibson used to live.
",
"
",
""Where is the green-house to be?"
",
"
",
""Upon the knoll behind the house.
",
"
",
"The old walnut trees are all come down to make room for it.
",
"
",
"We have cleared away all the old thorns that grew in patches over the brow."
",
"
",
"Dorsetshire!
",
"
",
""Beautifully indeed!
",
"
",
"Lucy continued.
",
"
",
""Oh, don't think of me!"
",
"
",
"It checked the idleness of one, and the business of the other.
",
"
",
"In one of these excursive glances she perceived among a group of young men, the very he, who had given them a lecture on toothpick-cases at Gray's.
",
"
",
"He bestowed his hearty approbation however on their species of house.
",
"
",
"[At this point in the first and second editions, Volume II ended.]
",
"
",
""Something so strange!
",
"
",
"'Lord!'
",
"
",
"So then it all came out; and the long and the short of the matter, by all I can learn, seems to be this.
",
"
",
"'Lord!'
",
"
",
"So up he flew directly, and a terrible scene took place, for Lucy was come to them by that time, little dreaming what was going on.
",
"
",
"Poor soul!
",
"
",
"Lord!
",
"
",
"Lord!
",
"
",
""Four months!"
",
"
",
"I acquit Edward of essential misconduct.
",
"
",
"The tenderest caresses followed this confession.
",
"
",
"Here Marianne, in an ecstasy of indignation, clapped her hands together, and cried, "Gracious God!
",
"
",
"Born to the prospect of such affluence!
",
"
",
"Poor Edward!
",
"
",
"Clarke."
",
"
",
"I never saw Lucy in such a rage in my life.
",
"
",
"Look, she made me this bow to my hat, and put in the feather last night.
",
"
",
"La!
",
"
",
""Oh, la!
",
"
",
"--, Pall Mall.
",
"
",
"They will tell me I should write to the Doctor, to get Edward the curacy of his new living.
",
"
",
"I write to the Doctor, indeed!'"
",
"
",
""Oh, la!
",
"
",
"here come the Richardsons.
",
"
",
"La!
",
"
",
"and Lord help 'em!
",
"
",
"That was just like Lucy.--Poor soul!
",
"
",
""Cleveland!"
",
"
",
""Ah!
",
"
",
"we shall sit and gape at one another as dull as two cats."
",
"
",
""Lord!
",
"
",
""Two or three months!"
",
"
",
"Ferrars."
",
"
",
"Ferrars!"
",
"
",
""About two hundred a year."
",
"
",
""It is truly astonishing!"
",
"
",
"Ferrars."
",
"
",
""Ah!
",
"
",
"Poor Edward!
",
"
",
"But now it is all too late.
",
"
",
"It had no park, but the pleasure-grounds were tolerably extensive; and like every other place of the same degree of importance, it had its open shrubbery, and closer wood walk, a road of smooth gravel winding round a plantation, led to the front, the lawn was dotted over with timber, the house itself was under the guardianship of the fir, the mountain-ash, and the acacia, and a thick screen of them altogether, interspersed with tall Lombardy poplars, shut out the offices.
",
"
",
"Prescriptions poured in from all quarters, and as usual, were all declined.
",
"
",
"Marianne was, of course, kept in ignorance of all these arrangements.
",
"
",
"The night was cold and stormy.
",
"
",
"The wind roared round the house, and the rain beat against the windows; but Elinor, all happiness within, regarded it not.
",
"
",
""With me!"
",
"
",
""Sit down, and I will be both."
",
"
",
"God be praised!--But is it true?
",
"
",
"Willoughby?"
",
"
",
"They were both silent for a few moments.
",
"
",
"Thank Heaven!
",
"
",
""Watched us out of the house!"
",
"
",
"And the lock of hair--that too I had always carried about me in the same pocket-book, which was now searched by Madam with the most ingratiating virulence,--the dear lock--all, every memento was torn from me."
",
"
",
"Good bye."
",
"
",
"He held out his hand.
",
"
",
"I shall now go away and live in dread of one event."
",
"
",
"Good bye,--God bless you!"
",
"
",
"And with these words, he almost ran out of the room.
",
"
",
"Elinor's heart was full.
",
"
",
""At last we are alone.
",
"
",
"His was an involuntary confidence, an irrepressible effusion to a soothing friend--not an application to a parent.
",
"
",
"Elinor grew impatient for some tidings of Edward.
",
"
",
"Marianne gave a violent start, fixed her eyes upon Elinor, saw her turning pale, and fell back in her chair in hysterics.
",
"
",
"This was gaining something, something to look forward to.
",
"
",
"He stopt at their gate.
",
"
",
"His errand at Barton, in fact, was a simple one.
",
"
",
"His heart was now open to Elinor, all its weaknesses, all its errors confessed, and his first boyish attachment to Lucy treated with all the philosophic dignity of twenty-four.
",
"
",
"He put the letter into Elinor's hands.
",
"
",
"Not a soul suspected anything of the matter, not even Nancy, who, poor soul!
",
"
",
"And I must say that Lucy's crossness not to take them along with them in the chaise is worse than all.
",
"
",
"His attendance was by this means secured, and the rest followed in course.
",
"
",
"Marianne Dashwood was born to an extraordinary fate.
",
"
",
"THE END
",
"
"
]
}
],
source: 
[
"## Printing all misclassified Austen sentences
",
"
",
"for i in range(len(austen_test_sentences)):
",
"    if austen_sentence_classifications[i] == 0.0:
",
"        print(austen_test_sentences[i])
",
"        print()"
]
},
{
cell_type: "code",
execution_count: 34,
metadata: { },
outputs: 
[
{
data: 
{
text/plain: 
[
"array([0, 0, 0, 1, 0, 0, 0, 0, 0, 0, 0, 0, 0, 0, 0, 0, 0, 0, 0, 0])"
]
},
execution_count: 34,
metadata: { },
output_type: "execute_result"
}
],
source: 
[
"## Classifying all sentences in our Melville test set
",
"# Recall that 0 means Melville & 1 means Austen
",
"
",
"melville_sentence_vectors = vectorizer.transform(melville_test_sentences)   ## Converting a list of strings to the same
",
"                                                                            ## vector format we used for our training set
",
"
",
"melville_sentence_classifications = classifier.predict(melville_sentence_vectors)   ## Classifying every sentence in the novel
",
"
",
"melville_sentence_classifications[:20]                                      ## Viewing the first 20 sentence classifications"
]
},
{
cell_type: "code",
execution_count: 37,
metadata: { },
outputs: 
[
{
name: "stdout",
output_type: "stream",
text: 
[
"NOTE.
",
"
",
"IX.
",
"
",
"THE PURSUIT OF POETRY UNDER DIFFICULTIES.
",
"
",
"XII.
",
"
",
"XIII.
",
"
",
"XIV.
",
"
",
"XVI.
",
"
",
"XXVII.
",
"
",
"XXXIII.
",
"
",
"FLOGGING NOT LAWFUL.
",
"
",
"FLOGGING NOT NECESSARY.
",
"
",
""THE PEOPLE" ARE GIVEN "LIBERTY."
",
"
",
""SINK, BURN, AND DESTROY."
",
"
",
"The gash being made, a metamorphosis took place, transcending any related by Ovid.
",
"
",
"And my shroud it afterward came very near proving, as he who reads further will find.
",
"
",
"Very true; and that thought very early occurred to me; for no idea had I of scudding round Cape Horn in my shirt; for _that_ would have been almost scudding under bare poles, indeed.
",
"
",
"No, my dear friend; and that was the deuce of it.
",
"
",
"Waterproof it was not, no more than a sponge.
",
"
",
"No, no; up you go: fat or lean: Lambert or Edson: never mind how much avoirdupois you might weigh.
",
"
",
"It had been my intention to make it thoroughly impervious, by giving it a coating of paint, But bitter fate ever overtakes us unfortunates.
",
"
",
"A rather serious circumstance growing out of such a case will be related in some future chapter.
",
"
",
"But this is not all.
",
"
",
"Indeed, many of them show tokens of having moved in very respectable society.
",
"
",
"He must begin anew; he knows nothing; Greek and Hebrew could not help him, for the language he must learn has neither grammar nor lexicon.
",
"
",
"No man ever had a better heart or a bolder.
",
"
",
"He was loved by the seamen and admired by the officers; and even when the Captain spoke to him, it was with a slight air of respect.
",
"
",
"Jack was a frank and charming man.
",
"
",
"No one could be better company in forecastle or saloon; no man told such stories, sang such songs, or with greater alacrity sprang to his duty.
",
"
",
"There was such an abounding air of good sense and good feeling about the man, that he who could not love him, would thereby pronounce himself a knave.
",
"
",
"His manners were easy and free; none of the boisterousness, so common to tars; and he had a polite, courteous way of saluting you, if it were only to borrow your knife.
",
"
",
"He talked of Rob Roy, Don Juan, and Pelham; Macbeth and Ulysses; but, above all things, was an ardent admirer of Camoens.
",
"
",
"Where he had obtained his wonderful accomplishments, it is not for me, his humble subordinate, to say.
",
"
",
"Enough, that those accomplishments were so various; the languages he could converse in, so numerous; that he more than furnished an example of that saying of Charles the Fifth--_ he who speaks five languages is as good as five men_.
",
"
",
"They are railed in behind so as to form a kind of balcony, very pleasant of a tropical night.
",
"
",
"Poor Tubbs can testify to that.
",
"
",
"Nothing could silence him; and his comparisons were ever invidious.
",
"
",
"Jack's courteous manner, however, very soon relieved his embarrassment; but it is no use to be courteous to _some_ men in this world.
",
"
",
"Tubbs belonged to that category.
",
"
",
"you bobber after carrion!
",
"
",
"do _you_ pretend to vilify a man-of-war?
",
"
",
"And what did you know, you bumpkin!
",
"
",
"Did you ever winter at Mahon?
",
"
",
"which, in my poor opinion, is the proper phrase for whaling!
",
"
",
"But there was no necessity for my exertions.
",
"
",
"Here, I must frankly tell a story about Jack, which as touching his honour and integrity, I am sure, will not work against him, in any charitable man's estimation.
",
"
",
"But with what purpose had he deserted?
",
"
",
"Not at all.
",
"
",
"At the time, his disappearance excited the utmost astonishment among the officers, who had little suspected him of any such conduct of deserting.
",
"
",
""What?
",
"
",
"cried the captain; "I'll not believe it."
",
"
",
""It must have been all for love, then; the signoritas have turned his head."
",
"
",
"I always s'pected him."
",
"
",
"What would Vattel say?
",
"
",
"At last, the whole case being so plainly made out, and the person in question being so accurately described, even to a mole on his cheek, there remained nothing but immediate compliance.
",
"
",
"Is it so?"
",
"
",
"Adieu!
",
"
",
"Don Sereno, and Madre de Dios protect you?
",
"
",
"You have been a most gentlemanly friend and captain to me.
",
"
",
"I hope you will yet thrash your beggarly foes."
",
"
",
"On account of this wound in his shoulder, our Commodore had a body-servant's pay allowed him, in addition to his regular salary.
",
"
",
"I cannot say a great deal, personally, of the Commodore; he never sought my company at all, never extended any gentlemanly courtesies.
",
"
",
"But though I cannot say much of him personally, I can mention something of him in his general character, as a flag-officer.
",
"
",
"In the first place, then, I have serious doubts, whether for the most part, he was not dumb; for in my hearing, he seldom or never uttered a word.
",
"
",
"Perhaps he had an evil eye; may be he was the Wandering Jew afloat.
",
"
",
"One thing, perhaps, that more than anything else helped to make our Commodore so melancholy and forlorn, was the fact of his having so little to do.
",
"
",
"For as the frigate had a  captain; of course, so far as _she_ was concerned, our Commodore was a supernumerary.
",
"
",
"What abundance of leisure he must have had, during a three years' cruise; how indefinitely he might have been improving his mind!
",
"
",
"He messed with the Lieutenants in the Ward-room, where he had a state-room, elegantly furnished as the private cabinet of Pelham.
",
"
",
"But it seemed, he wrote the Commodore's dispatches for Washington, and also was his general amanuensis.
",
"
",
"It is not twelve o'clock till he says so.
",
"
",
"And the bell is struck eight by the messenger-boy, and twelve o'clock it is.
",
"
",
"All my soakings and drenchings lie at his state-room door.
",
"
",
"I hardly think I shall ever forgive him; every twinge of the rheumatism, which I still occasionally feel, is directly referable to him.
",
"
",
"The Immortals have a reputation for clemency; and _they_ may pardon him; but he must not dun me to be merciful.
",
"
",
"But my personal feelings toward the man shall not prevent me from here doing him justice.
",
"
",
"In most things he was an excellent seaman; prompt, loud, and to the point; and as such was well fitted for his station.
",
"
",
"The First Lieutenancy of a frigate demands a good disciplinarian, and, every way, an energetic man.
",
"
",
"They generally form a very agreeable club of good fellows; from their diversity of character, admirably calculated to form an agreeable social whole.
",
"
",
"Of course these gentlemen all associate on a footing of perfect social equality.
",
"
",
"Invariably four in number, they never have need to play whist with a dummy.
",
"
",
"They are messengers and errand-boys to their superiors.
",
"
",
"Mr. Pert advances, touches his hat, and remains in an attitude of deferential suspense.
",
"
",
"Mr. Pert, what are you doing at the table there, without your pantaloons?
",
"
",
"Let me see no more of this.
",
"
",
"If you disturb the ward-room again, young gentleman, you shall hear of it."
",
"
",
"And so saying, this hoary-headed Senior Lieutenant would retire to his cot in his state-room, like the father of a numerous family after getting up in his dressing-gown and slippers, to quiet a daybreak tumult in his populous nursery.
",
"
",
"It is indispensable that he should be a very Vidocq in vigilance.
",
"
",
"But as it is a heartless, so is it a thankless office.
",
"
",
"He who dines latest is the greatest man; and he who dines earliest is accounted the least.
",
"
",
"But how can this be, if you dine at five?
",
"
",
"What were a day without a dinner?
",
"
",
"such a day had better be a night.
",
"
",
"It is said, on good authority, that a Captain once ventured to dine at five, when the Commodore's hour was four.
",
"
",
"Eight o'clock for breakfast; twelve for dinner; four for supper; and no meals but these; no lunches and no cold snacks.
",
"
",
"Think of it!
",
"
",
"Before the Commodore has dined, you have supped.
",
"
",
"Mr. Secretary of the Navy, in the name of _the people_, you should interpose in this matter.
",
"
",
"We beg you, Mr. Secretary, not to be swayed in this matter by the Honourable Board of Commodores, who will no doubt tell you that eight, twelve, and four are the proper hours for _the people_ to take their Meals; inasmuch, as at these hours the watches are relieved.
",
"
",
"Of course, it was intended to be characteristic; and even so it was.
",
"
",
"As the cable enters the hawse-hole, therefore, something must be constantly used, to keep this travelling chain attached to this travelling _messenger_; something that may be rapidly wound round both, so as to bind them together.
",
"
",
"The article used is called a _selvagee_.
",
"
",
"And what could be better adapted to the purpose?
",
"
",
"Was it _you_, Selvagee!
",
"
",
"I do not _say_ it was you, Selvagee; I but deferentially inquire.
",
"
",
"On that rock many young gentlemen split.
",
"
",
"there was no getting the lavender out of you.
",
"
",
"The smallest favours in that way were thankfully received.
",
"
",
"But vain these pretences; he could not deceive.
",
"
",
"you know very well, that if it comes on to blow pretty hard, the First Lieutenant will be sure to interfere with his paternal authority.
",
"
",
"How unenviable his situation!
",
"
",
"His brother officers do not insult him, to be sure; but sometimes their looks are as daggers.
",
"
",
"He drinks.
",
"
",
"And so do we all.
",
"
",
"Very often, this bad habit got him into very serious scrapes.
",
"
",
"So far as his efficiency as a sea-officer was concerned, on shore at least, Jack might _bouse away_ as much as he pleased; but afloat it will not do at all.
",
"
",
"No privacy can you have; hardly one moment's seclusion.
",
"
",
"It is almost a physical impossibility, that you can ever be alone.
",
"
",
"You dine at a vast _table d'hote_; sleep in commons, and make your toilet where and when you can.
",
"
",
"The bell strikes to dinner, and hungry or not, you must dine.
",
"
",
"But they gain very little by this.
",
"
",
"If you lay anything down, and turn your back for a moment, ten to one it is gone.
",
"
",
"I proposed, that not only should my jacket keep me warm, but that it should also be so constructed as to contain a shirt or two, a pair of trowsers, and divers knick-knacks--sewing utensils, books, biscuits, and the like.
",
"
",
"Nay, it is desirable, that they should be of such a nature, that in a dark night, when you are in a great hurry--say, going to the helm--they may be jumped into, indiscriminately; and not be like a pair of right-and-left kids; neither of which will admit any hand, but the particular one meant for it.
",
"
",
"No; I told my good top-mate to go away with his four thumbs, I would have nothing to do with them; two thumbs were enough for any man.
",
"
",
"For some time after completing my jacket, and getting the furniture and household stores in it; I thought that nothing could exceed it for convenience.
",
"
",
"Seldom now did I have occasion to go to my bag, and be jostled by the crowd who were making their wardrobe in a heap.
",
"
",
"If I wanted anything in the way of clothing, thread, needles, or literature, the chances were that my invaluable jacket contained it.
",
"
",
"From the wild life they lead, and various other causes (needless to mention), sailors, as a class, entertain the most liberal notions concerning morality and the Decalogue; or rather, they take their own views of such matters, caring little for the theological or ethical definitions of others concerning what may be criminal, or wrong.
",
"
",
"They will covertly abstract a thing from one, whom they dislike; and insist upon it, that, in such a case, stealing is not robbing.
",
"
",
"This was more than once done in the Neversink.
",
"
",
"THE PURSUIT OF POETRY UNDER DIFFICULTIES.
",
"
",
"I had very early made the acquaintance of Lemsford.
",
"
",
"As may readily be imagined, the business of writing verse is a very different thing on the gun-deck of a frigate, from what the gentle and sequestered Wordsworth found it at placid Rydal Mount in Westmoreland.
",
"
",
"--"He's got a fit, hain't he?"
",
"
",
"Often he read over his effusions to me; and well worth the hearing they were.
",
"
",
"He had wit, imagination, feeling, and humour in abundance; and out of the very ridicule with which some persons regarded him, he made rare metrical sport, which we two together enjoyed by ourselves; or shared with certain select friends.
",
"
",
"And upon my word, noble Jack, with his native-born good sense, taste, and humanity, was not ill qualified to play the true part of a _Quarterly Review_;--which is, to give quarter at last, however severe the critique.
",
"
",
"Now Lemsford's great care, anxiety, and endless source of tribulation was the preservation of his manuscripts.
",
"
",
"This box, of course, he could not keep in his bag or hammock, for, in either case, he would only be able to get at it once in the twenty-four hours.
",
"
",
"It was necessary to have it accessible at all times.
",
"
",
"So when not using it, he was obliged to hide it out of sight, where he could.
",
"
",
"They hated his box, as if it had been Pandora's, crammed to the very lid with hurricanes and gales.
",
"
",
"Now, from this Quoin's vigilance, how could my poor friend the poet hope to escape with his box?
",
"
",
"and a loud threat, to pitch it overboard the next time, without a moment's warning, or benefit of clergy.
",
"
",
"Once, with an inconsolable countenance, he came to me, saying that his casket was nowhere to be found; he had sought for it in his hiding-place, and it was not there.
",
"
",
"I asked him where he had hidden it?
",
"
",
"But Quoin knew nothing about it.
",
"
",
"For ten mortal days the poet was not to be comforted; dividing his leisure time between cursing Quoin and lamenting his loss.
",
"
",
"The world is undone, he must have thought: no such calamity has befallen it since the Deluge;--my verses are perished.
",
"
",
"But though Quoin, as it afterward turned out, had indeed found the box, it so happened that he had not destroyed it; which no doubt led Lemsford to infer that a superintending Providence had interposed to preserve to posterity his invaluable casket.
",
"
",
"As has been seen, Quoin was full of unaccountable whimsies; he was, withal, a very cross, bitter, ill-natured, inflammable old man.
",
"
",
"But you will always observe, that the gunner's gang of every man-of-war are invariably ill-tempered, ugly featured, and quarrelsome.
",
"
",
"Now, there can be little doubt, that their being so much among the guns is the very thing that makes a gunner's gang so cross and quarrelsome.
",
"
",
"The truth seems to be, indeed, that all people should be very careful in selecting their callings and vocations; very careful in seeing to it, that they surround themselves by good-humoured, pleasant-looking objects; and agreeable, temper-soothing sounds.
",
"
",
"Many an angelic disposition has had its even edge turned, and hacked like a saw; and many a sweet draught of piety has soured on the heart from people's choosing ill-natured employments, and omitting to gather round them good-natured landscapes.
",
"
",
"It would be advisable for any man, who from an unlucky choice of a profession, which it is too late to change for another, should find his temper souring, to endeavour to counteract that misfortune, by filling his private chamber with amiable, pleasurable sights and sounds.
",
"
",
"In summer time, an Aeolian harp can be placed in your window at a very trifling expense; a conch-shell might stand on your mantel, to be taken up and held to the ear, that you may be soothed by its continual lulling sound, when you feel the blue fit stealing over you.
",
"
",
"It should be placed on a bracket in the pier.
",
"
",
"But perhaps the best of all is a shelf of merrily-bound books, containing comedies, farces, songs, and humorous novels.
",
"
",
"You need never open them; only have the titles in plain sight.
",
"
",
"But of all chamber furniture in the world, best calculated to cure a had temper, and breed a pleasant one, is the sight of a lovely wife.
",
"
",
"If you have children, however, that are teething, the nursery should be a good way up stairs; at sea, it ought to be in the mizzen-top.
",
"
",
"Indeed, teething children play the very deuce with a husband's temper.
",
"
",
"On the contrary, it only proves the thing which I maintain.
",
"
",
"What is more mellow than fine old ale?
",
"
",
"They messed by themselves; forming a dinner-party, not to be exceeded ire mirthfulness, by a club of young bridegrooms, three months after marriage, completely satisfied with their bargains, after testing them.
",
"
",
"Who could he a churl, and play a flageolet?
",
"
",
"And when I observed, that nearly all the First Lieutenants I saw in other men-of-war, besides many Second and Third Lieutenants, were similarly lop-sided, I knew that there must be some general law which induced the phenomenon; and I put myself to studying it out, as an interesting problem.
",
"
",
"At last, I came to the conclusion--to which I still adhere--that their so long wearing only one epaulet (for to only one does their rank entitle them) was the infallible clew to this mystery.
",
"
",
"For I had not been long on board ere I found that it would not do to be intimate with everybody.
",
"
",
"Though I was above a year in the frigate, there were scores of men who to the last remained perfect strangers to me, whose very names I did not know, and whom I would hardly be able to recognise now should I happen to meet them in the streets.
",
"
",
"My friend Nord was a somewhat remarkable character; and if mystery includes romance, he certainly was a very romantic one.
",
"
",
"In a word, he seemed desirous of hinting, that his list of man-of war friends was already made up, complete, and full; and there was no room for more.
",
"
",
"But observing that the only man he ever consorted with was Lemsford, I had too much magnanimity, by going off in a pique at his coldness, to let him lose forever the chance of making so capital an acquaintance as myself.
",
"
",
"Besides, I saw it in his eye, that the man had been a reader of good books; I would have staked my life on it, that he seized the right meaning of Montaigne.
",
"
",
"I saw that he was an earnest thinker; I more than suspected that he had been bolted in the mill of adversity.
",
"
",
"He amazed me, as much as Coleridge did the troopers among whom he enlisted.
",
"
",
"What could have induced such a man to enter a man-of-war, all my sapience cannot fathom.
",
"
",
"And how he managed to preserve his dignity, as he did, among such a rabble rout was equally a mystery.
",
"
",
"This much was observable, however, that he faithfully discharged whatever special duties devolved upon him; and was so fortunate as never to render himself liable to a reprimand.
",
"
",
"No such tales had Nord to tell.
",
"
",
"For anything that dropped from him, none of us could be sure that he had ever existed till now.
",
"
",
"My other friend, Williams, was a thorough-going Yankee from Maine, who had been both a peddler and a pedagogue in his day.
",
"
",
"He had all manner of stories to tell about nice little country frolics, and would run over an endless list of his sweethearts.
",
"
",
"It is their great "prospect in life."
",
"
",
"I have known several forlorn individuals, shipping as landsmen, who have confessed to me, that having contracted a love for ardent spirits, which they could not renounce, and having by their foolish courses been brought into the most abject poverty--insomuch that they could no longer gratify their thirst ashore--they incontinently entered the Navy; regarding it as the asylum for all drunkards, who might there prolong their lives by regular hours and exercise, and twice every day quench their thirst by moderate and undeviating doses.
",
"
",
"When I once remonstrated with an old toper of a top-man about this daily dram-drinking; when I told him it was ruining him, and advised him to _stop his grog_ and receive the money for it, in addition to his wages as provided by law, he turned about on me, with an irresistibly waggish look, and said, "Give up my grog?
",
"
",
"Because it is ruining me?
",
"
",
"No, no; I am a good Christian, White-Jacket, and love my enemy too much to drop his acquaintance."
",
"
",
""The grog gone!"
",
"
",
""Oh!
",
"
",
"what a pain in my stomach!"
",
"
",
""It's worse than the cholera!"
",
"
",
"cried a Quarter-master.
",
"
",
""Not a tot left?"
",
"
",
""Not a toothful!"
",
"
",
"No longer, of still moonlight nights, was the song heard from the giddy tops; and few and far between were the stories that were told.
",
"
",
"Their first slumbers over, the marine sentry who stood guard over them had as much as he could do to keep off the crowd, who were all eagerness to find out how, in such a time of want, the prisoners had managed to drink themselves into oblivion.
",
"
",
"It seemed that an enterprising man of their number, who had suffered severely from the common deprivation, had all at once been struck by a brilliant idea.
",
"
",
"To make a short story of it, this functionary, being called upon in secret, was readily prevailed upon to part with a dozen bottles, with whose contents the intoxicated party had regaled themselves.
",
"
",
"To understand the matter, it is needful to enter into preliminaries.
",
"
",
"1, _Mess_ No.
",
"
",
"2, _Mess_ No.
",
"
",
"And for the time being, all the affairs of the club are subject to their inspection and control.
",
"
",
"Oh!
",
"
",
"Oh!
",
"
",
"copper rub-a-dub-a-oh!"
",
"
",
"From this it will be seen, that, so far as cooking is concerned, a "_cook of the mess_" has very little to do; merely carrying his provisions to and from the grand democratic cookery.
",
"
",
""Now, men, you can't have any butter to-day.
",
"
",
"I'm saving it up for to-morrow.
",
"
",
"You don't know the value of butter, men.
",
"
",
"Devil take me, if some of you chaps haven't no more manners than so many swines!
",
"
",
"15 talk to us.
",
"
",
"Then it was _look out for squalls_.
",
"
",
"The business of dining became a bore, and digestion was seriously impaired by the unamiable discourse we had over our _salt horse_.
",
"
",
"Then he would be railed at for his miserable "duffs," and other shortcoming preparations.
",
"
",
"How to escape, I knew not.
",
"
",
"I resolved, please Heaven, to approve myself an unexceptionable caterer, and the most impartial of stewards.
",
"
",
"I then went among the various cooks, to compare their receipts for making "duffs:" and having well weighed them all, and gathered from each a choice item to make an original receipt of my own, with due deliberation and solemnity I proceeded to business.
",
"
",
"Eight bells had struck.
",
"
",
"It was an anxious, I may say, a fearful moment.
",
"
",
"But to out with the plain truth, they themselves were not a very irreproachable set.
",
"
",
"Considering the sequel I am coming to, this avowal may be deemed sheer malice; but for all that, I cannot avoid speaking my mind.
",
"
",
"However, I had no idea that anything serious, on their part, was brewing; but alas!
",
"
",
"Looking down on the mess-cloth, he observed that some fellows never knew when their room was better than their company.
",
"
",
"This being a maxim of indiscriminate application, of course I silently assented to it, as any other reasonable man would have done.
",
"
",
"But this remark was followed up by another, to the effect that, not only did some fellows never know when their room was better than their company, but they persisted in staying when their company wasn't wanted; and by so doing disturbed the serenity of society at large.
",
"
",
"But this, also, was a general observation that could not be gainsaid.
",
"
",
"This was coming nearer home.
",
"
",
"Yes, they were going to black-ball me; but I resolved to sit it out a little longer; never dreaming that my moralist would proceed to extremities, while all hands were present.
",
"
",
"I was shocked.
",
"
",
"Such a want of tact and delicacy!
",
"
",
"Common propriety suggested that a point-blank intimation of that nature should be conveyed in a private interview; or, still better, by note.
",
"
",
"This slashing private also boasted that he could take a chip from between your teeth at twenty paces; he offered to bet any amount on it; and as he could get no one to hold the chip, his boast remained for ever good.
",
"
",
"Our real misfortune is, that our noble club should be obliged to dine with its cook."
",
"
",
"To a quiet, contemplative character, averse to uproar, undue exercise of his bodily members, and all kind of useless confusion, nothing can be more distressing than a proceeding in all men-of-war called "_general quarters_."
",
"
",
"And well may it be so called, since it amounts to a general drawing and quartering of all the parties concerned.
",
"
",
"For one, I ever abominated it.
",
"
",
"These were my sentiments at the time, and these remain my sentiments still; but as, while on board the frigate, my liberty of thought did not extend to liberty of expression, I was obliged to keep these sentiments to myself; though, indeed, I had some thoughts of addressing a letter, marked _Private and Confidential_, to his Honour the Commodore, on the subject.
",
"
",
"[1]   ----  [Footnote-1] For the benefit of a Quaker reader here and there, a word or two in explanation of a carronade may not be amiss.
",
"
",
"Its _carriage_, likewise, is quite different from that of a long-gun, having a sort of sliding apparatus, something like an extension dining-table; the goose on it, however, is a tough one, and villainously stuffed with most indigestible dumplings.
",
"
",
"If they hit _him_, no doubt he would not feel it much, for he was used to that sort of thing, and, indeed, had a bullet in him already.
",
"
",
"By candidly confessing my feelings on this subject, I do by no means invalidate my claims to being held a man of prodigious valour.
",
"
",
"I merely state my invincible repugnance to being shot for somebody else.
",
"
",
"If I am shot, be it with the express understanding in the shooter that I am the identical person intended so to be served.
",
"
",
"If you happen to be in the way, you are hit; possibly, killed; if not, you escape.
",
"
",
"The carronade at which I was stationed was known as "Gun No.
",
"
",
"Do they not know that this violent exercise, taking place just after a hearty dinner, as it generally does, is eminently calculated to breed the dyspepsia?
",
"
",
"There was no satisfaction in dining; the flavour of every mouthful was destroyed by the thought that the next moment the cannonading drum might be beating to quarters.
",
"
",
""Bad luck!
",
"
",
"bad luck!"
",
"
",
"Shame on you!
",
"
",
"Suppose you yourself should fall over-board, and find yourself going down with buoys under you of your own making--what then?"
",
"
",
""Don't believe it!"
",
"
",
""I will," retorted Bungs; "and you mind yours!"
",
"
",
""Do you see him?"
",
"
",
""Man or _buoy_, do you see either?"
",
"
",
""See nothing, sir," was the reply.
",
"
",
""There, it's no use," cried the officer; "he's gone, whoever he is.
",
"
",
"they'll be recalling us soon."
",
"
",
"cried another.
",
"
",
"replied a third.
",
"
",
""No, no!
",
"
",
"cried a fourth.
",
"
",
""I told you so, men," cried the Captain of the Head; "I said we would lose a man before long."
",
"
",
"Here the sons of adversity meet the children of calamity, and here the children of calamity meet the offspring of sin.
",
"
",
"I have done this, the sailors used to fancy that I must be studying astronomy--which, indeed, to some extent, was the case--and that my object in mounting aloft was to get a nearer view of the stars, supposing me, of course, to be short-sighted.
",
"
",
"Well-timed was the latter thought, for the life to come was much nearer overtaking me than I then could imagine.
",
"
",
"But if so, the consciousness glided away from me, and left me in Lethe.
",
"
",
"Who had done this?
",
"
",
"who had made this attempt on my life?
",
"
",
"See, see!
",
"
",
""Who's coming?"
",
"
",
""Jacket," cried I, "you must change your complexion!
",
"
",
"you must hie to the dyers and be dyed, that I may live.
",
"
",
"I cannot consent to die for _you_, but be dyed you must for me.
",
"
",
""Just look at it, sir," I added, holding it lip; "did you ever see anything whiter?
",
"
",
"A little paint, sir, you cannot refuse."
",
"
",
""Sir, every rain gives me a soaking; Cape Horn is at hand--six brushes-full would make it waterproof; and no longer would I be in peril of my life!"
",
"
",
"I fear it will not be well with me in the end; for if my own sins are to be forgiven only as I forgive that hard-hearted and unimpressible First Lieutenant, then pardon there is none for me.
",
"
",
"What!
",
"
",
"when but one dab of paint would make a man of a ghost, and it Mackintosh of a herring-net--to refuse it I am full.
",
"
",
"I can say no more.
",
"
",
"Dreadful!
",
"
",
"they give you more swing than that at the gallows.
",
"
",
"During warm nights in the Tropics, your hammock is as a stew-pan; where you stew and stew, till you can almost hear yourself hiss.
",
"
",
"Vain are all stratagems to widen your accommodations.
",
"
",
"Let me see now, thought I, whether my ingenuity cannot devise some method whereby I can have room to breathe and sleep at the same time.
",
"
",
"I have it.
",
"
",
"But there was another plan left.
",
"
",
"it was much worse than before.
",
"
",
"When it was discovered that this man had long been suspected of being an _informer_ among the crew, little surprise and less pleasure were evinced at his narrow escape.
",
"
",
"I cannot quit this matter of the hammocks without making mention of a grievance among the sailors that ought to be redressed.
",
"
",
"But in a man-of-war you can do no such thing; your hammock is very neatly stowed in the nettings, and there it must remain till nightfall.
",
"
",
"Repeatedly, after by good fortune securing a corner, I have been roused from it by some functionary commissioned to keep it clear.
",
"
",
"Off Cape Horn, what before had been very uncomfortable became a serious hardship.
",
"
",
"But this privilege was but a beggarly one, indeed.
",
"
",
"But we endeavoured to make ourselves as warm and comfortable as possible, chiefly by close stowing, so as to generate a little steam, in the absence of any fire-side warmth.
",
"
",
"You have seen, perhaps, the way in which they box up subjects intended to illustrate the winter lectures of a professor of surgery.
",
"
",
"Such a posture could not be preserved for any considerable period without shifting side for side.
",
"
",
"But, however you turned, your nose was sure to stick to one or other of the steaming backs on your two flanks.
",
"
",
"And the junior Lieutenants not only have their cots to go to at any time: but as only one of them is required to head the watch, and there are so many of them among whom to divide that duty, they are only on deck four hours to twelve hours below.
",
"
",
"Sometimes you discover that, in the dark, you have been all the while scrubbing your next neighbour's hammock instead of your own.
",
"
",
"Oh!
",
"
",
"Look at it.
",
"
",
"And well you may.
",
"
",
"To be sure, sailors themselves do not often complain of these things; they are used to them; but man can become used even to the hardest usage.
",
"
",
"And it is because he is used to it, that sometimes he does not complain of it.
",
"
",
"That's room enough; and room enough to turn in, if he but knew how to shift his spine, end for end, like a ramrod, without disturbing his next neighbour.
",
"
",
""Too bad--too bad!"
",
"
",
""I could almost pipe my eye to think on't."
",
"
",
""Who would be a _Jankee_ now?"
",
"
",
"He could not.
",
"
",
"Three days before the anniversary--it still continuing very pleasant weather for these latitudes--it was publicly announced that free permission was given to the sailors to get up any sort of theatricals they desired, wherewith to honour the Fourth.
",
"
",
"What was their chagrin, then, when, upon making an application to the Captain, in a Peruvian harbour, for permission to present the much-admired drama of "_The Ruffian Boy_," under the Captain's personal patronage, that dignitary assured them that there were already enough _ruffian boys_ on board, without conjuring up any more from the green-room.
",
"
",
"It was as if a Drury-Lane bill had been posted upon the London Monument.
",
"
",
"DAY PERFORMANCE.
",
"
",
"UNCOMMON ATTRACTION.
",
"
",
"Mrs. Lovelorn  .
",
"
",
"Gin and Sugar Sall.
",
"
",
"Good order is expected to be    maintained.
",
"
",
"And upon this one occasion his literary abilities were far from being underrated, even by the least intellectual person on board.
",
"
",
"At last _the people_ were piped to dinner; two bells struck; and soon after, all who could be spared from their stations hurried to the half-deck.
",
"
",
"_That_ was the royal box.
",
"
",
"hurrah!--go on!
",
"
",
"There is no knowing what would have ensued, had not the bass drum suddenly been heard, calling all hands to quarters, a summons not to be withstood.
",
"
",
"I thought to myself, this now is as it should be.
",
"
",
"disappointment came.
",
"
",
"Who has not heard of it?
",
"
",
"Three remarkable and most interesting narratives record their disasters and sufferings.
",
"
",
"But you can read, and so you must have read it.
",
"
",
"Cold!
",
"
",
"There was nothing to be done but patiently to await the pleasure of the elements, and "whistle for a wind," the usual practice of seamen in a calm.
",
"
",
"It was horrifying.
",
"
",
"In such weather any man could have undergone amputation with great ease, and helped take up the arteries himself.
",
"
",
"Indeed, this state of affairs had not lasted quite twenty-four hours, when the extreme frigidity of the air, united to our increased tendency to inactivity, would very soon have rendered some of us subjects for the surgeon and his mates, had not a humane proceeding of the Captain suddenly impelled us to vigorous exercise.
",
"
",
"It was a Babel here, a Bedlam there, and a Pandemonium everywhere.
",
"
",
"The Theatricals were nothing compared with it.
",
"
",
"It is worth mentioning that several casualties occurred, of which, however, I will relate but one.
",
"
",
"What was she, and whence?
",
"
",
"She is bringing the wind with her.
",
"
",
"Never before, I venture to say, was Cape Horn so audaciously insulted.
",
"
",
"You'd better take in some of your flying-kites there.
",
"
",
"Imagination cannot conceive the horror of such a sound in a night-tempest at sea.
",
"
",
"Some hands were sent down to secure them; but it was as much as their lives were worth.
",
"
",
""Hold on, every mother's son!"
",
"
",
"But how could we reach our long-promised homes without encountering Cape Horn?
",
"
",
"by what possibility avoid it?
",
"
",
"beware of it; prepare for it in time.
",
"
",
"And ye lucky livers, to whom, by some rare fatality, your Cape Horns are placid as Lake Lemans, flatter not yourselves that good luck is judgment and discretion; for all the yolk in your eggs, you might have foundered and gone down, had the Spirit of the Cape said the word.
",
"
",
"But every seaman knew, at the time, that the Captain's order was an unwise one in the extreme; perhaps worse than unwise.
",
"
",
"So he was.
",
"
",
"But here we only see the virtue of being placed in a station constantly demanding a cool head and steady nerves, and the misfortune of filling a post that does _not_ at all times demand these qualities.
",
"
",
"This kind of merely manual valour is often born of trepidation at the heart.
",
"
",
"Yet it would be false to deny that, in some in-stances, the lowest privates have acquitted themselves with even more gallantry than their commodores.
",
"
",
"Still more, it may safely be asserted, that, worthily to command even a frigate, requires a degree of natural heroism, talent, judgment, and integrity, that is denied to mediocrity.
",
"
",
"For if any of _these_ are found wanting, they are forthwith disrated or discharged.
",
"
",
"True, all experience teaches that, whenever there is a great national establishment, employing large numbers of officials, the public must be reconciled to support many incompetent men; for such is the favouritism and nepotism always prevailing in the purlieus of these establishments, that some incompetent persons are always admitted, to the exclusion of many of the worthy.
",
"
",
"Instances in point might be mentioned.
",
"
",
"Is it not well to have our institutions of a piece?
",
"
",
"The throwers could never be known.
",
"
",
"While in the very act of performing the exploit of delivering the message, Mr. Pert was struck on the nose with a snow-ball of wondrous compactness.
",
"
",
"Pert was no favourite.
",
"
",
"Unlike his countrymen, Wooloo was of a sedate, earnest, and philosophic temperament.
",
"
",
"Wooloo's opinion remained unchanged for some time.
",
"
",
"The first time he was given a piece of "duff" to eat, he was observed to pick out very carefully every raisin, and throw it away, with a gesture indicative of the highest disgust.
",
"
",
"It turned out that he had taken the raisins for bugs.
",
"
",
"We thought him a loon: he fancied us fools.
",
"
",
"A fact proving that neither was wrong, but both right.
",
"
",
""Up--up, you lazy dogs!"
",
"
",
"Even then, it was some time before they were able to do anything.
",
"
",
""Here, _you_, sir!"
",
"
",
""Who are _you_, sir?
",
"
",
"What's your name?"
",
"
",
""Hang me, but I know _you_, sir!
",
"
",
"and here's at you!"
",
"
",
"But the attempt to find an owner for that voice is quite as idle as the effort to discover the contents of the monkey jacket.
",
"
",
"And here sorrowful mention must be made of something which, during this state of affairs, most sorely afflicted me.
",
"
",
"It gave me many a hard job, which otherwise I should have escaped.
",
"
",
"you lazy lubbers!
",
"
",
"Oh!
",
"
",
"how I execrated my luckless garment; how often I scoured the deck with it to give it a tawny hue; how often I supplicated the inexorable Brush, captain of the paint-room, for just one brushful of his invaluable pigment.
",
"
",
"Frequently, I meditated giving it a toss overboard; but I had not the resolution.
",
"
",
"But the worse of this was soon over.
",
"
",
"One word more about Cape Horn, and we have done with it.
",
"
",
"Such must be our national progress.
",
"
",
"His responsibilities are denoted by his pay.
",
"
",
"But in the counter, behind which he usually stands, there is no place for a till to drop the shillings in, which takes away not a little from the most agreeable part of a storekeeper's duties.
",
"
",
"By reason of his incessant watchfulness and unaccountable bachelor oddities, it was very difficult for him to retain in his employment the various sailors who, from time to time, were billeted with him to do the duty of subalterns.
",
"
",
"In particular, he was always desirous of having at least one steady, faultless young man, of a literary taste, to keep an eye to his account-books, and swab out the armoury every morning.
",
"
",
"He had somehow heard of my being a very learned person, who could both read and write with extraordinary facility; and moreover that I was a rather reserved youth, who kept his modest, unassuming merits in the background.
",
"
",
"While engaged in these inquiries, often fruitless, or but partially gratified, I could not but regret that there was no public printed Directory for the Neversink, such as they have in large towns, containing an alphabetic list of all the crew, and where they might be found.
",
"
",
"He it was who had access to many of those mysterious vaults I have spoken of.
",
"
",
"I remembered Guy Fawkes and the Parliament-house, and made earnest inquiry whether this gunner was a Roman Catholic.
",
"
",
"I felt relieved when informed that he was not.
",
"
",
"This turning of the powder was to preserve its inflammability.
",
"
",
"What dreams he must have had!
",
"
",
"Often, the most ludicrous scenes occur, and the most comical complaints are made.
",
"
",
""Well, sir, what now?"
",
"
",
""Stole your _dunderfunk!_ what's that?"
",
"
",
""_Dunderfunk_, sir, _dunderfunk_; a cruel nice dish as ever man put into him."
",
"
",
""Speak out, sir; what's the matter?"
",
"
",
""My _dunderfunk_, sir--as elegant a dish of _dunderfunk_ as you ever see, sir--they stole it, sir!"
",
"
",
""Once more, sir, I ask what that _dundledunk_ is?
",
"
",
"Speak!"
",
"
",
""As cruel a nice----"  "Be off, sir!
",
"
",
""Oh!
",
"
",
"he's going home to Down East," said another; "so far eastward, you know, _shippy_, that they have to pry up the sun with a handspike."
",
"
",
"And to those who are beyond all reach of shore delicacies, this _dunderfunk_, in the feeling language of the Down Easter, is certainly "_a cruel nice dish_."
",
"
",
"And as some such dishes or other are well known to be all the time in the oven, a set of unprincipled gourmands are constantly on the look-out for the chance of stealing them.
",
"
",
"Generally, two or three league together, and while one engages _Old Coffee_ in some interesting conversation touching his wife and family at home, another snatches the first thing he can lay hands on in the oven, and rapidly passes it to the third man, who at his earliest leisure disappears with it.
",
"
",
"They had nothing to anticipate but a flogging, at the captain's pleasure.
",
"
",
"He knows that the same law which impels it--the same law by which the culprits of the day must suffer; that by that very law he also is liable at any time to be judged and condemned.
",
"
",
"But it must not be imagined that to all men-of-war's-men this summons conveys such poignant emotions; but it is hard to decide whether one should be glad or sad that this is not the case; whether it is grateful to know that so much pain is avoided, or whether it is far sadder to think that, either from constitutional hard-heartedness or the multiplied searings of habit, hundreds of men-of-war's-men have been made proof against the sense of degradation, pity, and shame.
",
"
",
"Have you anything to say?"
",
"
",
"Mark and Antone, two steady, middle-aged men, whom I had often admired for their sobriety, replied that they did not strike the first blow; that they had submitted to much before they had yielded to their passions; but as they acknowledged that they had at last defended themselves, their excuse was overruled.
",
"
",
"John--a brutal bully, who, it seems, was the real author of the disturbance--was about entering into a long extenuation, when he was cut short by being made to confess, irrespective of circumstances, that he had been in the fray.
",
"
",
"But it would not do.
",
"
",
""Now, men," he added, "you all admit the charge; you know the penalty.
",
"
",
"it's nothing when you're used to it!
",
"
",
"Never before had he been heard to curse.
",
"
",
"He had some pulmonary complaint.
",
"
",
"It was his first scourging, and he felt the insult more than the injury.
",
"
",
"He had often boasted that he had never been degraded at the gangway.
",
"
",
"Oh!
",
"
",
"and the whole dozen was applied.
",
"
",
""I have been flogged once, and they may do it again, if they will.
",
"
",
"You see a human being, stripped like a slave; scourged worse than a hound.
",
"
",
"And for what?
",
"
",
"For things not essentially criminal, but only made so by arbitrary laws.
",
"
",
"Many illustrations might be given, but let us be content with a few.
",
"
",
"Whereas, if another punishment were substituted, it would probably occasion a great waste of time and trouble, besides thereby begetting in the sailor an undue idea of his importance.
",
"
",
"Absurd, or worse than absurd, as it may appear, all this is true; and if you start from the same premises with these officers, you, must admit that they advance an irresistible argument.
",
"
",
"It is of a piece with the penal laws that prevailed in England some sixty years ago, when one hundred and sixty different offences were declared by the statute-book to be capital, and the servant-maid who but pilfered a watch was hung beside the murderer of a family.
",
"
",
"It is one of the most common punishments for very trivial offences in the Navy, to "stop" a seaman's _grog_ for a day or a week.
",
"
",
"And as most seamen so cling to their _grog_, the loss of it is generally deemed by them a very serious penalty.
",
"
",
"You will sometimes hear them say, "I would rather have my wind _stopped_ than _my grog!_"  But there are some sober seamen that would much rather draw the money for it, instead of the grog itself, as provided by law; but they are too often deterred from this by the thought of receiving a scourging for some inconsiderable offence, as a substitute for the stopping of their spirits.
",
"
",
"It is believed that, even at the present day, there are instances of Commanders still violating the law, by delegating the power of the colt to subordinates.
",
"
",
"But it has not so proved.
",
"
",
"If more are to be given, the sentence must be passed by a Court-martial.
",
"
",
"Yet, for nearly half a century, this law has been frequently, and with almost perfect impunity, set at naught: though of late, through the exertions of Bancroft and others, it has been much better observed than formerly; indeed, at the present day, it is generally respected.
",
"
",
"It is worth while to state that this frigate was vastly admired by the shore ladies for her wonderfully neat appearance.
",
"
",
"Is it lawful for you to scourge a man that is a Roman?
",
"
",
"asks the intrepid Apostle, well knowing, as a Roman citizen, that it was not.
",
"
",
"Depravity in the oppressed is no apology for the oppressor; but rather an additional stigma to him, as being, in a large degree, the effect, and not the cause and justification of oppression.
",
"
",
"FLOGGING NOT LAWFUL.
",
"
",
"It is next to idle, at the present day, merely to denounce an iniquity.
",
"
",
"Be ours, then, a different task.
",
"
",
"By this article the Captain is made a legislator, as well as a judge and an executive.
",
"
",
"So far as it goes, it absolutely leaves to his discretion to decide what things shall be considered crimes, and what shall be the penalty; whether an accused person has been guilty of actions by him declared to be crimes; and how, when, and where the penalty shall be inflicted.
",
"
",
"But with us it is different.
",
"
",
"But in most of these matters between man and man, the Captain instead of being a magistrate, dispensing what the law promulgates, is an absolute ruler, making and unmaking law as he pleases.
",
"
",
"Had Sir William Blackstone violated the laws of England, he would have been brought before the bar over which he had presided, and would there have been tried, with the counsel for the crown reading to him, perhaps, from a copy of his own _Commentaries_.
",
"
",
"And should he have been found guilty, he would have suffered like the meanest subject, "according to law."
",
"
",
"That law is the Law of Nature; among the three great principles of which Justinian includes "that to every man should be rendered his due."
",
"
",
"Will you say that, by so doing, he degrades himself to the liability of the scourge, but if he tarries ashore in time of danger, he is safe from that indignity?
",
"
",
"It is not a dollar-and-cent question of expediency; it is a matter of _right and wrong_.
",
"
",
"FLOGGING NOT NECESSARY.
",
"
",
""Send them to Collingwood."
",
"
",
"And who was Collingwood, that, after these navy rebels had been imprisoned and scourged without being brought to order, Collingwood could convert them to docility?
",
"
",
"Were they saints?
",
"
",
"But, granting the quoted assertion to be true, how comes it that many American Captains, who, after inflicting as severe punishment as ever Collingwood could have authorized--how comes it that _they_, also, have not been able to maintain good order without subsequent floggings, after once showing to the crew with what terrible attributes they were invested?
",
"
",
"But it is notorious, and a thing that I myself, in several instances, _know_ to have been the case, that in the American navy, where corporal punishment has been most severe, it has also been most frequent.
",
"
",
"Some other influence must have been brought to bear; mainly, no doubt, the influence wrought by a powerful brain, and a determined, intrepid spirit over a miscellaneous rabble.
",
"
",
"It cannot have escaped the discernment of any observer of mankind, that, in the presence of its conventional inferiors, conscious imbecility in power often seeks to carry off that imbecility by assumptions of lordly severity.
",
"
",
"But it was a tender theme, the public agitation of which the government was anxious to suppress.
",
"
",
"And the necessity for flogging was generally believed to be directly referable to the impressment of such crowds of dissatisfied men.
",
"
",
""If we abolish either impressment or flogging, the abolition of the other will follow as a matter of course."
",
"
",
"But in things of this kind England should be nothing to us, except an example to be shunned.
",
"
",
"Not so.
",
"
",
"In the Past is no hope; the Future is both hope and fruition.
",
"
",
"There are occasions when it is for America to make precedents, and not to obey them.
",
"
",
"More shall come after us than have gone before; the world is not yet middle-aged.
",
"
",
"To her was given an express dispensation; to her were given new things under the sun.
",
"
",
"The rest of the nations must soon be in our rear.
",
"
",
"Long enough, have we been skeptics with regard to ourselves, and doubted whether, indeed, the political Messiah had come.
",
"
",
"But he has come in us, if we would but give utterance to his promptings.
",
"
",
""Keep her off three points!"
",
"
",
"It was a sight that Bacchus and his bacchanals would have gloated over.
",
"
",
"You may as well say there should be no Sundays in churches; for is not a ship modeled after a church?
",
"
",
"has it not three spires--three steeples?
",
"
",
"And does not that bell merrily peal every Sunday morning, to summon the crew to devotions?
",
"
",
"He was a slender, middle-aged man, of an amiable deportment and irreproachable conversation; but I must say, that his sermons were but ill calculated to benefit the crew.
",
"
",
""Go to prayers, d----n you!
",
"
",
"May I be allowed, sir, _not_ to attend service on the half-deck?"
",
"
",
""You will be allowed, sir!"
",
"
",
"If you absent yourself from prayers on Sunday mornings, you know the penalty."
",
"
",
"The motive which prompts the introduction of chaplains into the Navy cannot but be warmly responded to by every Christian.
",
"
",
"But it does not follow, that because chaplains are to be found in men-of-war, that, under the present system, they achieve much good, or that, under any other, they ever will.
",
"
",
"How can it be expected that the clergyman, whose pulpit is a forty-two-pounder, should convert sinners to a faith that enjoins them to turn the right cheek when the left is smitten?
",
"
",
"How is it to be expected that when, according to the XLII.
",
"
",
"I have known one crew, who were warmly attached to a naval commander worthy of their love, who have mustered even with alacrity to the call to prayer; and when their Captain would read the Church of England service to them, would present a congregation not to be surpassed for earnestness and devotion by any Scottish Kirk.
",
"
",
"Ay, behold now the Neversink at her anchors, in many respects presenting a different appearance from what she presented at sea.
",
"
",
"Some sailors are very fond of belonging to the boats, and deem it a great honour to be a _Commodore's barge-man_; but others, perceiving no particular distinction in that office, do not court it so much.
",
"
",
"This was the first announcement of the fact that I heard; but soon after it was officially ratified.
",
"
",
"But the barge never stopped; and the Commodore made but a slight return to the obsequious salute he had received.
",
"
",
"If was now Captain Claret's turn to be honoured.
",
"
",
"To return to the gig.
",
"
",
"But we plain people ashore might very willingly be content to leave these commodores in the unmolested possession of their gilded penny whistles, rattles, and gewgaws, since they seem to take so much pleasure in them, were it not that all this is attended by consequences to their subordinates in the last degree to be deplored.
",
"
",
"But to do so, we voters and lawgivers ourselves must be no respecters of persons.
",
"
",
"That saying about _levelling upward, and not downward_, may seem very fine to those who cannot see its self-involved absurdity.
",
"
",
"Some discreet, but democratic, legislation in this matter is much to be desired.
",
"
",
"One of my principal antidotes against _ennui_ in Rio, was reading.
",
"
",
"This made him very cross and irritable, as most all librarians are.
",
"
",
"And may that shadow never be less!
",
"
",
"Reading was by no means the only method adopted by my shipmates in whiling away the long, tedious hours in harbour.
",
"
",
"In truth, many of them could not have read, had they wanted to ever so much; in early youth their primers had been sadly neglected.
",
"
",
"The portion that fell to my own share I kept in superior order, quite equal in polish to Rogers's best cutlery.
",
"
",
"Oh!
",
"
",
"Every time he passed me, he would heave a sentimental sigh, and hum to himself "_The girl I left behind me_."
",
"
",
"He allowed them to play checkers as much as they pleased.
",
"
",
"came another, from the other side; so that, it being a very dark night, and nobody to be seen, and it being impossible to find out the trespassers, he thought it best to get back into his cabin as soon as possible.
",
"
",
"Some time after--just as if the belaying-pins had nothing to do with it--it was indirectly rumoured that the checker-boards might be brought out again, which--as a philosophical shipmate observed--showed that Captain Claret was a man of a ready understanding, and could understand a hint as well as any other man, even when conveyed by several pounds of iron.
",
"
",
"Or if a seat is not to be had--which is frequently the case--then get a tolerably comfortable _stand-up_ against the bulwarks, and begin to think about home and bread and butter--always inseparably connected to a wanderer--which will very soon bring delicious tears into your eyes; for every one knows what a luxury is grief, when you can get a private closet to enjoy it in, and no Paul Prys intrude.
",
"
",
"And, when I am all alone, to run over this almanac in my mind is almost as entertaining as to read your own diary, and far more interesting than to peruse a table of logarithms on a rainy afternoon.
",
"
",
"But when it came round in the Neversink, I could get neither lamb, peas, nor sherry.
",
"
",
"A fine specific, which seldom fails, unless, to be sure, you have been sleeping all the twenty-four hours beforehand.
",
"
",
"And when fortune would go hard with him, and he felt out of sorts, and incensed at matters and things in general, he told me that, at such time, he almost wished he was back again in Sing Sing, where he was relieved from all anxieties about what he should eat and drink, and was supported, like the President of the United States and Prince Albert, at the public charge.
",
"
",
"This feat is very seldom attempted, for it needs the utmost caution, address, and dexterity; and no one but a super-expert burglar, and faultless Leander of a swimmer, could achieve it.
",
"
",
"From the greater privileges which they enjoy, the "_forward officers_," that is, the Gunner, Boatswain, etc., have much greater opportunities for successful smuggling than the common seamen.
",
"
",
"Though, from certain circumstances, the thief was known to the aggrieved party, yet the latter could say nothing, since he himself had infringed the law.
",
"
",
"Meanwhile, the cockswain has liberty to roam about where he pleases.
",
"
",
"Crowds were present at the time, and saw the master-at-arms touch his cap in obsequious homage, as he solemnly assured the Captain that he would still continue to do his best; as, indeed, he said he had always done.
",
"
",
""I do not doubt you, master-at-arms," returned the Captain; "now go to your duty."
",
"
",
""Mr.
",
"
",
"calling a midshipman, "ask the Purser whether there is any box coming off for him this morning."
",
"
",
""Very good, then; Mr. Montgomery, have that box put into the 'brig,' with strict orders to the sentry not to suffer any one to touch it."
",
"
",
""I have given my orders, sir!"
",
"
",
"He had never so much as heard of it in his life.
",
"
",
""Break open that box!"
",
"
",
""Certainly, sir!"
",
"
",
"The master-at-arms did so; and, smacking his lips after a puzzled fashion, was a little doubtful whether it was American whisky or Holland gin; but he said he was not used to liquor.
",
"
",
"The affair was at once reported to the Captain, who, incensed at the audacity of the thing, adopted every plan to detect the guilty parties.
",
"
",
"How such a most unmartial vagabond had insinuated himself into the honourable marine corps was a perfect mystery.
",
"
",
"Ordinarily, the appearance of these things for the Purser and other ward-room gentlemen occasioned no surprise; for almost every day some bundle or other is coming off for them, especially for the Purser; and, as the master-at-arms was always present on these occasions, it was an easy matter for him to hurry the smuggled liquor out of sight, and, under pretence of carrying the box or bundle down to the Purser's room, hide it away upon his own premises.
",
"
",
"Upon going to dinner one day, I found him soberly seated at my own mess; and at first I could not but feel some very serious scruples about dining with him.
",
"
",
"Nevertheless, he was a man to study and digest; so, upon a little reflection; I was not displeased at his presence.
",
"
",
"No.
",
"
",
"Priming was his name; but methinks I have spoken of him before.
",
"
",
"In him--to modify Burke's phrase--vice _seemed_, but only seemed, to lose half its seeming evil by losing all its apparent grossness.
",
"
",
"There was a fine polish about his whole person, and a pliant, insinuating style in his conversation, that was, socially, quite irresistible.
",
"
",
"But in his conversation there was no trace of evil; nothing equivocal; he studiously shunned an indelicacy, never swore, and chiefly abounded in passing puns and witticisms, varied with humorous contrasts between ship and shore life, and many agreeable and racy anecdotes, very tastefully narrated.
",
"
",
"In short--in a merely psychological point of view, at least--he was a charming blackleg.
",
"
",
"Ashore, such a man might have been an irreproachable mercantile swindler, circulating in polite society.
",
"
",
"But he was still more than this.
",
"
",
"From being an implacable policeman, vigilant, cruel, and remorseless in his office, however polished in his phrases, he was now become a disinterested, sauntering man of leisure, winking at all improprieties, and ready to laugh and make merry with any one.
",
"
",
"But, however it was, I, for one, regarded this master-at-arms with mixed feelings of detestation, pity, admiration, and something op-posed to enmity.
",
"
",
"I admired his heroism in sustaining himself so well under such reverses.
",
"
",
"Is it to be wondered at, that the devils are irreligious?
",
"
",
"Perhaps Captain Claret had read the Memoirs of Vidocq, and believed in the old saying, _set a rogue to catch a rogue_.
",
"
",
"And, as some of the subordinates of a man-of-war captain are apt to invoke his good wishes and mollify his conscience by making him friendly gifts, it would perhaps _have_ been an excellent thing for him to adopt the plan pursued by the President of the United States, when he received a present of lions and Arabian chargers from the Sultan of Muscat.
",
"
",
"In the same manner, when Captain Claret received his snuff-box and cane, he might have accepted them very kindly, and then sold them off to the highest bidder, perhaps to the donor himself, who in that case would never have tempted him again.
",
"
",
"It was also asserted that, had Tophet itself been raked with a fine-tooth comb, such another ineffable villain could not by any possibility have been caught.
",
"
",
"20--his literary strong-box--went off with a terrific report.
",
"
",
"You need not answer; I see you were too late.
",
"
",
"But never mind, my boy: no printer could do the business for you better.
",
"
",
"A killed man cannot even lisp."
",
"
",
"Virgil, you are a trump; you are a jewel, my boy.
",
"
",
"To each number a particular meaning is applied.
",
"
",
"No.
",
"
",
"No.
",
"
",
"No.
",
"
",
"No.
",
"
",
"2110, "_See anything to windward?_" No.
",
"
",
"You, Baldy!
",
"
",
""You, Baldy!
",
"
",
"are you afraid of falling?"
",
"
",
"But with the surgeon's skillful treatment he soon promised recovery.
",
"
",
"He was quite a favourite with the sailors, which, in a good degree, was owing to his humour; but likewise to his off-hand, irresistible, romantic, theatrical manner of addressing them.
",
"
",
"I want to see t'other boot."
",
"
",
""My sweet and pleasant fellow," said the auctioneer, with his blandest accents, "the other boot is not just at hand, but I give you my word of honour that it in all respects cor-responds to the one you here see--it does, I assure you.
",
"
",
"What shall I have?
",
"
",
""What is it?
",
"
",
"what a sacrifice!"
",
"
",
""A sacrifice, indeed!"
",
"
",
""So I am, so I am," said the auctioneer, without moving a muscle.
",
"
",
""And look!"
",
"
",
"You all do know this boot.
",
"
",
"Look!
",
"
",
"yours?
",
"
",
"yours?"
",
"
",
"what shall I have?
",
"
",
"one cent, do I hear?
",
"
",
"going now at one cent a pound--going--going--going--_gone!_"  "Whose are they?
",
"
",
"Well, my sweet and pleasant friend, I will have them weighed out to you when the auction is over."
",
"
",
"Having been present at this auction, though not a purchaser, and seeing with what facility the most dismantled old garments went off, through the magical cleverness of the accomplished auctioneer, the thought occurred to me, that if ever I calmly and positively decided to dispose of my famous white jacket, this would be the very way to do it.
",
"
",
"To how many annoyances had it subjected me?
",
"
",
"Nay, had it not once jeopardised my very existence?
",
"
",
"And I had a dreadful presentiment that, if I persisted in retaining it, it would do so again.
",
"
",
"Enough!
",
"
",
"After vaguely and delicately hinting at the object of my visit, I came roundly to the point, and asked him whether he could slip my jacket into one of the bags of clothes next to be sold, and so dispose of it by public auction.
",
"
",
"He kindly acquiesced and the thing was done.
",
"
",
"Here it behooves me once again to describe my jacket; for, as a portrait taken at one period of life will not answer for a later stage; much more this jacket of mine, undergoing so many changes, needs to be painted again and again, in order truly to present its actual appearance at any given period.
",
"
",
"Such as it was, with all its faults, the auctioneer displayed it.
",
"
",
"and you, my fine waisters!
",
"
",
"How much for it, my gallant tars of Columbia?
",
"
",
"say the word, and how much?"
",
"
",
"Why, just look at it!
",
"
",
"How much, now?
",
"
",
""How much for this _jacket_?"
",
"
",
""_Jacket_, do you call it!"
",
"
",
"it _must_ be sold.
",
"
",
"Come, what ought I to have on it, now?"
",
"
",
"again cried the auctioneer.
",
"
",
"say something, Colombians."
",
"
",
"Very good; here, shove it aside.
",
"
",
"Let's have something else there."
",
"
",
"But no, alas!
",
"
",
"Nor do I remember that there ever happened a cabinet meeting of the ward-room barons, the Lieutenants, in the Commodore's cabin, but the Purser made one of the party.
",
"
",
"For hours together you would see him, through the window of his subterranean office, writing by the light of his perpetual lamp.
",
"
",
"Some disappointed applicants among the sailors would offer to buy the epistles of their more fortunate shipmates, while yet the seal was unbroken--maintaining that the sole and confidential reading of a fond, long, domestic letter from any man's home, was far better than no letter at all.
",
"
",
"The Pursers, instead of being at liberty to make almost what they pleased from the sale of their wares, are now paid by regular stipends laid down by law.
",
"
",
"Shortly after, his three daughters--not very lovely--married extremely well.
",
"
",
"In considering his salary, however, his responsibilities are not to be over-looked; they are by no means insignificant.
",
"
",
"It was an interesting occasion for a tranquil observer; nor was it altogether neglected.
",
"
",
"Not a cent.
",
"
",
"The prize-money, though, ought to have been an inducement.
",
"
",
"How were they to be promoted?
",
"
",
"But can men, whose interests are diverse, ever hope to live together in a harmony uncoerced?
",
"
",
"Surely it seems all but impossible.
",
"
",
"I urge it not against them as men--their feelings belonged to their profession.
",
"
",
"Had they not been naval officers, they had not been rejoicers in the midst of despair.
",
"
",
"I have said that I must pass over Rio without a description; but just now such a flood of scented reminiscences steals over me, that I must needs yield and recant, as I inhale that musky air.
",
"
",
"Will Captain Claret vouchsafe one day's liberty, and so assure himself of eternal felicity, since, in our flowing cups, he will be ever after freshly remembered?"
",
"
",
""And what do you want to go ashore for?"
",
"
",
"Liberty, sir; liberty is, indeed, our humble prayer.
",
"
",
"cried the Commodore, by no means blind to the bold sortie of his flattery, but not at all displeased with it.
",
"
",
""I think we must let you go."
",
"
",
"But Jack was nowise cast down by the Captain's coldness; he felt safe enough; so he proceeded to offer his acknowledgments.
",
"
",
"cried his shipmates, as he carried the grateful news of liberty to them on the forecastle.
",
"
",
"Accordingly, upon the lad's public intercession, Collingwood, turning to the culprit, said, "This young gentleman has pleaded so humanely for you, that, in hope you feel a due gratitude to him for his benevolence, I will, for this time, overlook your offence."
",
"
",
"But since what human nature is, and what it must for ever continue to be, is well enough understood for most practical purposes, it needs no special example to prove that, where the merest boys, indiscriminately snatched from the human family, are given such authority over mature men, the results must be proportionable in monstrousness to the custom that authorises this worse than cruel absurdity.
",
"
",
"Without being exactly familiar with them, he had yet become a general favourite, by reason of his kindness of manner, and never cursing them.
",
"
",
""Ah, good luck to you, sir!"
",
"
",
"There was a wonderful deal of meaning involved in the latter sentence.
",
"
",
"A tall, overgrown young midshipman, about sixteen years old, having fallen under his displeasure, he interrupted the humble apologies he was making, by saying, "Not a word, sir!
",
"
",
"I'll not hear a word!
",
"
",
"To a lad of sensibility, such treatment must have been almost as stinging as the lash itself would have been.
",
"
",
"They are supposed to be qualified to do duty as lieutenants, and in some cases temporarily serve as such.
",
"
",
"The difference between a passed-midshipman and a midshipman may be also inferred from their respective rates of pay.
",
"
",
"There were no passed-midshipmen in the Neversink.
",
"
",
"So, indeed, it would seem.
",
"
",
"But when all the circumstances are considered, it will not appear extraordinary that some of them should thus cast discredit upon the warrants they wear.
",
"
",
"Never sail under a navy captain whom you suspect of being dyspeptic, or constitutionally prone to hypochondria.
",
"
",
"Well, don't he look as if he wanted to flog someone?
",
"
",
"Look at him once."
",
"
",
"But any one might have been doing that to pass away a calm.
",
"
",
"If I could only touch my tile to him now, and take my Bible oath on it, that I was only taking off Priming, and not _him_, he wouldn't have such hard thoughts of me.
",
"
",
"But that can't be done; he'd think I meant to insult him.
",
"
",
"Well, it can't be helped; I suppose I must look out for a baker's dozen afore long."
",
"
",
"I had an incredulous laugh at this.
",
"
",
""You----,[3] do you dare stand up to be flogged with your hat on!
",
"
",
"Take it off, sir, instantly."
",
"
",
"----  [FOOTNOTE-3] The phrase here used I have never seen either written or printed, and should not like to be the first person to introduce it to the public.
",
"
",
"that boatswain's mate, too, had a spite agin me; he always thought it was _me_ that set afloat that yarn about his wife in Norfolk.
",
"
",
"There!!
",
"
",
"didn't he have a spite agin me, to raise such bars as them?
",
"
",
"But I told you so--a widow's curse on him, say I--he thought I meant _him_, and not Priming."
",
"
",
""THE PEOPLE" ARE GIVEN "LIBERTY."
",
"
",
"get ready to go ashore on liberty!"
",
"
",
""Liberty!"
",
"
",
"It shows that, to such, "liberty," at first, must be administered in small and moderate quantities, increasing with the patient's capacity to make good use of it.
",
"
",
"He had read Don Quixote, and, instead of curing him of his Quixotism, as it ought to have done, it only made him still more Quixotic.
",
"
",
"As for the midshipmen, there is no knowing what their mammas would have said to their conduct in Rio.
",
"
",
"Three of them drank a good deal too much; and when they came on board, the Captain ordered them to be sewed up in their hammocks, to cut short their obstreperous capers till sober.
",
"
",
"This shows how unwise it is to allow children yet in their teens to wander so far from home.
",
"
",
"you may despise your mother's leading-strings, but they are the _man-ropes_ my lads, by which many youngsters have steadied the giddiness of youth, and saved themselves from lamentable falls.
",
"
",
"And middies!
",
"
",
"But this some of you cannot believe.
",
"
",
"It is, perhaps, well that it is so.
",
"
",
"He was of a studious turn, and, after leaving Oxford, resided quietly on his estate, a country gentleman, till his forty-second year, soon after which he became connected with the Parliamentary army.
",
"
",
"The historian Clarendon says of him, "He was the first man that made it manifest that the science (seamanship) might be attained in less time than was imagined."
",
"
",
"It is hardly to be doubted that, in matters connected with the general welfare of the Navy, government has paid rather too much deference to the opinions of the officers of the Navy, considering them as men almost born to the service, and therefore far better qualified to judge concerning any and all questions touching it than people on shore.
",
"
",
"But in a nation under a liberal Constitution, it must ever be unwise to make too distinct and peculiar the profession of either branch of its military men.
",
"
",
"And this it is that has perpetuated in the Navy many evils that otherwise would have been abolished in the general amelioration of other things.
",
"
",
"Republicans are often more courteous to royalty than royalists themselves.
",
"
",
"It was a fine sight to see this Emperor and Commodore complimenting each other.
",
"
",
"For though not borne before him, it must have been a sword of state, since it looked far to lustrous to have been his fighting sword.
",
"
",
"You have seen cones of crystallised salt?
",
"
",
"Were it not for their titles, and being seen in the train of their lord, you would have sworn they were eldest sons of jewelers all, who had run away with their fathers' cases on their backs.
",
"
",
"A great pity it was, that in addition to all these honours, that admirer of Portuguese literature, Viscount Strangford, of Great Britain--who, I believe, once went out Ambassador Extraordinary to the Brazils--it was a pity that he was not present on this occasion, to yield his tribute of "A Stanza to Braganza!"
",
"
",
"He was, indeed, a distinguished young gentleman, entitled to high consideration, and that consideration was most cheerfully accorded him.
",
"
",
"His manners, indeed, were entirely unexceptionable.
",
"
",
"Now here, thought I, is a very fine lad, with very fine prospects before him.
",
"
",
"Any gentleman in Rio would be proud of his personal acquaintance, and the prettiest girl in all South America would deem herself honoured with the least glance from the acutest angle of his eye.
",
"
",
"Yes: this young Emperor will have a fine time of this life, even so long as he condescends to exist.
",
"
",
"Look you, Don Pedro II.," he added, "how do you come to be Emperor?
",
"
",
"A _brigand_, indeed!"
",
"
",
""_Braganza_, you mean," said I, willing to correct the rhetoric of so fierce a republican, and, by so doing, chastise his censoriousness.
",
"
",
"_bragger_ it is," he replied; "and a bragger, indeed.
",
"
",
""Clap a stopper on your jaw-tackle, will you?"
",
"
",
"Look you, I say, that crown of yours ought to be on my head; or, if you don't believe _that_, just heave it into the ring once, and see who's the best man."
",
"
",
""How?"
",
"
",
"Indeed, the Emperor and his suite formed a sort of bridal party, only the bride herself was absent.
",
"
",
""Que contentamento he o meu!"
",
"
",
"(where are you going?)
",
"
",
"he suddenly added, in a passion, glancing round at the same time, to see if they had suffered from the unfaithfulness of his train bearer.
",
"
",
"My casual friend, Shakings, the holder, happened to be by at the time.
",
"
",
""What's your name?"
",
"
",
"I wore an epaulet then; we had the same state-room, you know, sir.
",
"
",
"It seemed this Mandeville had entered the Navy when very young, and had risen to be a lieutenant, as he said.
",
"
",
"But brandy had been his bane.
",
"
",
"For this unpardonable offence he was broken.
",
"
",
"But all these lessons, so biting-bitter to learn, could not cure him of his sin.
",
"
",
"He had hardly been a week on board the Neversink, when he was found intoxicated with smuggled spirits.
",
"
",
"The conduct of Mandeville, in claiming the acquaintance of the First Lieutenant under such disreputable circumstances was strongly contrasted by the behaviour of another person on board, placed for a time in a somewhat similar situation.
",
"
",
""I can't keep it to myself any more," he said; "I must have a confidant, or I shall go mad!"
",
"
",
"said I, in alarm.
",
"
",
""Matter enough--look at this!"
",
"
",
""That is my own brother," said he; "he must have got a reefer's warrant since I left home.
",
"
",
"Would you run?
",
"
",
"Do you think there is any chance to desert?
",
"
",
""Why, Frank," said I, "I do not really see sufficient cause for this fit you are in.
",
"
",
"Your brother is an of officer--very good; and you are nothing but a sailor--but that is no disgrace.
",
"
",
"If he comes on board here, go up to him, and take him by the hand; believe me, he will be glad enough to see you!"
",
"
",
"Amazed at his earnestness, and hardly able to account for it altogether, I stood silent a moment; then said, "Why, Frank, this midshipman is your own brother, you say; now, do you really think that your own flesh and blood is going to give himself airs over you, simply because he sports large brass buttons on his coat?
",
"
",
"Never believe it.
",
"
",
"If he does, he can be no brother, and ought to be hanged--that's all!"
",
"
",
""Don't say that again," said Frank, resentfully; "my brother is a noble-hearted fellow; I love him as I do myself.
",
"
",
"Do you suppose, now, I want my brother to see me a lackey abroad here?
",
"
",
"By Heaven it is enough to drive one distracted!
",
"
",
"What's to be done?"
",
"
",
"Upon his return, I was all eagerness to learn what had happened, and, as the communication of his feelings was a grateful relief, he poured his whole story into my ear.
",
"
",
"No; he was too tall--too large.
",
"
",
"it was not him.
",
"
",
"And perhaps his brother had not sailed from home, after all; there might have been some mistake.
",
"
",
""How my heart thumped," he said, "when I actually, felt him so near me; but I wouldn't look at him--no!
",
"
",
"I'd have died first!"
",
"
",
"He hailed it; but no reply.
",
"
",
""Give the word, or I fire!"
",
"
",
"Not a word was heard.
",
"
",
"The extreme misery and general prostration of the man, caused by the great effusion of blood--though, strange to say, at first he said he felt no pain from the wound itself--induced the Surgeon, very reluctantly, to forego an immediate search for the ball, to extract it, as that would have involved the dilating of the wound by the knife; an operation which, at that juncture, would have been almost certainly attended with fatal results.
",
"
",
"A day or two, therefore, was permitted to pass, while simple dressings were applied.
",
"
",
"Nor was he at all blind to the dignity of his position; to which, indeed, he was rendered peculiarly competent, if the reputation he enjoyed was deserved.
",
"
",
"He was a small, withered man, nearly, perhaps quite, sixty years of age.
",
"
",
"In private, he had once been heard to say, confidentially, that he would rather cut off a man's arm than dismember the wing of the most delicate pheasant.
",
"
",
"But when you first beheld it, no such emotions ever crossed your mind.
",
"
",
"It was immovably fixed to a bracket, against the partition of his state-room, so that it was the first object that greeted his eyes when he opened them from his nightly sleep.
",
"
",
"Descending to the ward-room, Cuticle spied the note, and no sooner read it, than, clutching the case, he opened it, and exclaimed, "Beautiful!
",
"
",
"I have never seen a finer specimen of this most interesting disease."
",
"
",
""What have you there, Surgeon Cuticle?"
",
"
",
""Why, sir, look at it; did you ever see anything more exquisite?"
",
"
",
""Very exquisite indeed; let me have a bit of it, will you, Cuticle?"
",
"
",
"You are not making collections!"
",
"
",
""I'm fond of the article," said the Lieutenant; "it's a fine cold relish to bacon or ham.
",
"
",
""Hand it to me, and see whether I will not," was the reply.
",
"
",
"Enough.
",
"
",
"Yet you could not say that Cuticle was essentially a cruel-hearted man.
",
"
",
"His apparent heartlessness must have been of a purely scientific origin.
",
"
",
"It is not to be imagined even that Cuticle would have harmed a fly, unless he could procure a microscope powerful enough to assist him in experimenting on the minute vitals of the creature.
",
"
",
"And this, in courtesy, his brother surgeons expect.
",
"
",
"In a body they bowed as he approached, and accosted him with deferential regard.
",
"
",
"You have all seen the patient, I believe.
",
"
",
"At first I had hopes that I should have been able to cut down to the ball, and remove it; but the state of the patient forbade.
",
"
",
"Since then, the inflammation and sloughing of the part has been attended with a copious suppuration, great loss of substance, extreme debility and emaciation.
",
"
",
"In fact, there can be no doubt that the wound is incurable, and that amputation is the only resource.
",
"
",
"But, gentlemen, I find myself placed in a very delicate predicament.
",
"
",
"I assure you I feel no professional anxiety to perform the operation.
",
"
",
"I desire your advice, and if you will now again visit the patient with me, we can then return here and decide what is best to be done.
",
"
",
""Gentlemen," began Cuticle, again seating himself, "you have now just inspected the limb; you have seen that there is no resource but amputation; and now, gentlemen, what do you say?
",
"
",
"Surgeon Bandage, of the Mohawk, will you express your opinion?"
",
"
",
""Can anything save him but amputation?"
",
"
",
""His constitutional debility is extreme," observed Bandage, "but I have seen more dangerous cases."
",
"
",
""Surgeon Wedge, of the Malay," said Cuticle, in a pet, "be pleased to give _your_ opinion; and let it be definitive, I entreat:" this was said with a severe glance toward Bandage.
",
"
",
"Is not amputation the only resource, sir?"
",
"
",
""Excuse me," said Sawyer, "I am decidedly opposed to it; for if hitherto the patient has not been strong enough to undergo the extraction of the ball, I do not see how he can be expected to endure a far more severe operation.
",
"
",
"As there is no immediate danger of mortification, and you say the ball cannot be reached without making large incisions, I should support him, I think, for the present, with tonics, and gentle antiphlogistics, locally applied.
",
"
",
""Surgeon Patella, of the Algerine," said Cuticle, in an ill-suppressed passion, abruptly turning round on the person addressed, "will _you_ have the kindness to say whether _you_ do not think that amputation is the only resource?"
",
"
",
"Now Patella was the youngest of the company, a modest man, filled with a profound reverence for the science of Cuticle, and desirous of gaining his good opinion, yet not wishing to commit himself altogether by a decided reply, though, like Surgeon Sawyer, in his own mind he might have been clearly against the operation.
",
"
",
""What you have remarked, Mr.
",
"
",
"Still, it is a very critical case, and amputation may be indispensable; and if it is to be performed, there ought to be no delay whatever.
",
"
",
"That is my view of the case, Mr.
",
"
",
""Surgeon Patella, then, gentlemen," said Cuticle, turning round triumphantly, "is clearly of opinion that amputation should be immediately performed.
",
"
",
"For my own part--individually, I mean, and without respect to the patient--I am sorry to have it so decided.
",
"
",
"But this settles the question, gentlemen--in my own mind, however, it was settled before.
",
"
",
"At ten o'clock to-morrow morning the operation will be performed.
",
"
",
"I shall be happy to see you all on the occasion, and also your juniors" (alluding to the absent _Assistant Surgeons_).
",
"
",
""Good-morning, gentlemen; at ten o'clock, remember."
",
"
",
"And Cuticle retreated to the Ward-room.
",
"
",
"They were accompanied by their juniors, young men ranging in age from nineteen years to thirty.
",
"
",
"As in honour of the occasion, they had put on their best coats; they looked exceedingly brilliant.
",
"
",
"Upon this occasion, to do duty as an amputation-table, it was widened by an additional plank.
",
"
",
"Why this object was here, will presently be seen; but why it was placed immediately at the foot of the amputation-table, only Surgeon Cuticle can tell.
",
"
",
"Is it not so, Surgeon Patella?"
",
"
",
""Certainly," said Patella, "amputation is your only resource, Mr.
",
"
",
"Surgeon of the Fleet; that is, I mean, if you are fully persuaded of its necessity."
",
"
",
"The other surgeons said nothing, maintaining a somewhat reserved air, as if conscious that they had no positive authority in the case, whatever might be their own private opinions; but they seemed willing to behold, and, if called upon, to assist at the operation, since it could not now be averted.
",
"
",
""We shall see," was the reply, and the speaker clapped his hand to his fob, to see if his watch would be forthcoming when wanted.
",
"
",
""Are you all ready here?"
",
"
",
"Ah, those were happy days!"
",
"
",
""Excuse an old man's emotions, young gentlemen; but when I think of the numerous rare cases that then came under my treatment, I cannot but give way to my feelings.
",
"
",
"From having no military marine herself, Mexico has always been backward in furnishing subjects for the amputation-tables of foreign navies.
",
"
",
"The army, young gentlemen, is your best school; depend upon it.
",
"
",
"You will hardly believe it, Surgeon Bandage," turning to that gentleman, "but this is my first important case of surgery in a nearly three years' cruise.
",
"
",
"No one, sir, could have made an amputation of it, without severely contusing his conscience.
",
"
",
"And mine--I may say it, gentlemen, without ostentation is--peculiarly susceptible."
",
"
",
"Steward, take off my coat--so; my neckerchief now; I must be perfectly unencumbered, Surgeon Patella, or I can do nothing whatever."
",
"
",
"Thus divested of nearly all inorganic appurtenances, what was left of the Surgeon slightly shook itself, to see whether anything more could be spared to advantage.
",
"
",
"With natural curiosity, these men had purposely been lingering, to see all they could; but now, having no further excuse, they snatched up their hammers and chisels, and--like the stage-builders decamping from a public meeting at the eleventh hour, after just completing the rostrum in time for the first speaker--the Carpenter's gang withdrew.
",
"
",
""And now, young gentlemen," said Cuticle, turning to the Assistant Surgeons, "while the patient is coming to, permit me to describe to you the highly-interesting operation I am about to perform."
",
"
",
""Mr.
",
"
",
"Surgeon of the Fleet," said Surgeon Bandage, "if you are about to lecture, permit me to present you with your teeth; they will make your discourse more readily understood."
",
"
",
""In the first place, now, young gentlemen, let me direct your attention to the excellent preparation before you.
",
"
",
"I have had it unpacked from its case, and set up here from my state-room, where it occupies the spare berth; and all this for your express benefit, young gentlemen.
",
"
",
"But we have no time to examine it now.
",
"
",
"_Here_, young gentlemen, _here_ is the place.
",
"
",
"You perceive it is very near the point of articulation with the trunk."
",
"
",
""Yes," interposed Surgeon Wedge, rising on his toes, "yes, young gentlemen, the point of articulation with the _acetabulum_ of the _os innominatum_."
",
"
",
""Surgeon Wedge," said Cuticle, looking round severely, "we will dispense with your commentaries, if you please, at present.
",
"
",
""I tell you it is not an uncommon thing for the patient to betray some emotion upon these occasions--most usually manifested by swooning; it is quite natural it should be so.
",
"
",
"But we must not delay the operation.
",
"
",
"He is coming to, I think"--feeling the top-man's wrist.
",
"
",
""Are you all ready, sir?"
",
"
",
"said Cuticle.
",
"
",
"Instantly it was in his hand.
",
"
",
"Full of the operation, he was about to apply it, when, looking up, and turning to the assistant surgeons, he said, "Would any of you young gentlemen like to apply the saw?
",
"
",
"A splendid subject!"
",
"
",
""Away, butcher!
",
"
",
"you disgrace the profession.
",
"
",
"They are quite at your service, sir."
",
"
",
""Do, Sawyer; be prevailed upon," said Surgeon Bandage.
",
"
",
"But you noticed that I did not use the tourniquet; I never do.
",
"
",
"The forefinger of my steward is far better than a tourniquet, being so much more manageable, and leaving the smaller veins uncompressed.
",
"
",
"For the padded points at the end of the arches"--arching his forefinger and thumb--"can be so worked as to approximate in such a way, as to--but you don't attend to me, young gentlemen," he added, all at once starting.
",
"
",
"Being more interested in the active proceedings of Surgeon Sawyer, who was now threading a needle to sew up the overlapping of the stump, the young gentlemen had not scrupled to turn away their attention altogether from the lecturer.
",
"
",
"That ball, young gentlemen, must have taken a most circuitous route.
",
"
",
"But examples of foreign substances being received into the body with a ball, young gentlemen, are frequently observed.
",
"
",
"Let this sink deep in your minds, young gentlemen; and, Surgeon Wedge "--with a stiff bow--"permit me to submit the reflection to yourself.
",
"
",
"But, Surgeon Sawyer, perhaps you may desire to wash your hands before you go.
",
"
",
"There is the basin, sir; you will find a clean towel on the rammer.
",
"
",
""I must leave you now, gentlemen"--bowing.
",
"
",
""To-morrow, at ten, the limb will be upon the table, and I shall be happy to see you all upon the occasion.
",
"
",
"Who's there?"
",
"
",
"Good-morning;" and Cuticle departed.
",
"
",
""Oh, no!"
",
"
",
"Every time she drew near, we complimented her by lowering our ensign a little, and invariably she courteously returned the salute.
",
"
",
"But we Americans can show but few similar trophies, though, no doubt, we would much like to be able so to do.
",
"
",
"asked I; "and why marches he here?
",
"
",
"Do you straighten yourself to think that you have committed a murder, when a chance-falling stone has often done the same?
",
"
",
"And you account it so glorious, do you, to mutilate and destroy what God himself was more than a quarter of a century in building?
",
"
",
"Come on, Rainbow and Cross!"
",
"
",
"Did you ever read him?
",
"
",
"William Julius Mickle?
",
"
",
"Did you ever see his ballad of Cumnor Hall?--No?--Why, it gave Sir Walter Scott the hint of Kenilworth.
",
"
",
"Were you ever in Malta?
",
"
",
"They say a piece of it is good for a charm against shipwreck; but I never tried it.
",
"
",
"There's Shelley, he was quite a sailor.
",
"
",
"a Percy, too--but they ought to have let him sleep in his sailor's grave--he was drowned in the Mediterranean, you know, near Leghorn--and not burn his body, as they did, as if he had been a bloody Turk.
",
"
",
"there never was a very great man yet who spent all his life inland.
",
"
",
"But look!
",
"
",
""See nothing, sir."
",
"
",
"Thenceforward all her Captains, on all cruises, _trimmed her by the head;_ and the Neversink gained the name of a clipper.
",
"
",
"To return.
",
"
",
"They played with great gun-rammers.
",
"
",
"_Head-bumping_, as patronised by Captain Claret, consists in two negroes (whites will not answer) butting at each other like rams.
",
"
",
"This pastime was an especial favourite with the Captain.
",
"
",
"How can they have the heart?
",
"
",
"Methinks, if but once I smiled upon a man--never mind how much beneath me--I could not bring myself to condemn him to the shocking misery of the lash.
",
"
",
"That potentate who most condescends, mark him well; for that potentate, if occasion come, will prove your uttermost tyrant.
",
"
",
"Poor mulatto!
",
"
",
"thought I; poor mulatto!
",
"
",
"Heaven send you a release from your humiliation!
",
"
",
"What that station is, should be made known to him by the First Lieutenant; and when the word is passed to _tack_ or _wear_, it is every seaman's duty to be found at his post.
",
"
",
"Indeed, I subsequently discovered, that such was the state of discipline--in this one particular, at least--that very few of the seamen could tell where their proper stations were, at _tacking or wearing_.
",
"
",
""What for?"
",
"
",
""What am I wanted for?"
",
"
",
"I repeated.
",
"
",
""Why were you not at your station, sir?"
",
"
",
""What station do you mean, sir?"
",
"
",
"said I.
",
"
",
""What station, sir, do you mean?"
",
"
",
"said I.
",
"
",
""You pretend ignorance," he replied; "it will not help you, sir."
",
"
",
""Captain Claret," said I, "it is the first time I ever heard of my being assigned to that post."
",
"
",
""How is this, Mr.
",
"
",
"he said, turning to the First Lieutenant, with a fault-finding expression.
",
"
",
""It is impossible, sir," said that officer, striving to hide his vexation, "but this man must have known his station."
",
"
",
""I have never known it before this moment, Captain Claret," said I.
",
"
",
"he returned.
",
"
",
""I shall flog you."
",
"
",
"No, I felt my man's manhood so bottomless within me, that no word, no blow, no scourge of Captain Claret could cut me deep enough for that.
",
"
",
"No other way could I escape the scourge.
",
"
",
"Nature has not implanted any power in man that was not meant to be exercised at times, though too often our powers have been abused.
",
"
",
"said Captain Claret; "do you hear?"
",
"
",
""I know that man," said Colbrook, touching his cap, and speaking in a mild, firm, but extremely deferential manner; "and I know that he would not be found absent from his station, if he knew where it was."
",
"
",
"This speech was almost unprecedented.
",
"
",
"The very unusualness of his interference seemed Colbrook's protection.
",
"
",
"He had seen more than half a century of the most active service, and, through all, had proved himself a good and faithful man.
",
"
",
"That look is the fadeless, ever infantile immortality within.
",
"
",
"You might tarry in Constantinople a month, and never catch a glimpse of the Sultan.
",
"
",
"He then turns and makes off to his division, perhaps passing several brother Lieutenants, all bound on the same errand he himself has just achieved.
",
"
",
"The other hand is continually bobbing up and down to the leather front of his cap, in response to the reports and salute of his subordinates, to whom he never deigns to vouchsafe a syllable, merely going through the motions of accepting their news, without bestowing thanks for their pains.
",
"
",
"But as for the First Lieutenant, he ought to have extra pay allowed to him, on account of his extraordinary outlays in cap fronts; for he it is to whom, all day long, reports of various kinds are incessantly being made by the junior Lieutenants; and no report is made by them, however trivial, but caps are touched on the occasion.
",
"
",
""Now I have him!"
",
"
",
"Brought so close together, twice every day, for more than a year, we could not but become intimately acquainted with each other's faces.
",
"
",
"To this fortunate circumstance it is to be ascribed, that some time after reaching home, we were able to recognise each other when we chanced to meet in Washington, at a ball given by the Russian Minister, the Baron de Bodisco.
",
"
",
"Like many other gentlemen, he appeared to the best advantage, and was treated with the most deference in the bosom of his home, the frigate.
",
"
",
"Our morning and evening quarters were agreeably diversified for some weeks by a little circumstance, which to some of us at least, always seemed very pleasing.
",
"
",
"He was accompanied by a very beautiful wife, and a still more beautiful little daughter, about six years old.
",
"
",
""_Shall suffer death!_" This was the burden of nearly every Article read by the Captain's clerk; for he seemed to have been instructed to omit the longer Articles, and only present those which were brief and to the point.
",
"
",
"After it has been repeated again and again, you listen to the reader as he deliberately begins a new paragraph; you hear him reciting the involved, but comprehensive and clear arrangement of the sentence, detailing all possible particulars of the offence described, and you breathlessly await, whether _that_ clause also is going to be concluded by the discharge of the terrible minute-gun.
",
"
",
"it again booms on your ear--_shall suffer death!_ No reservations, no contingencies; not the remotest promise of pardon or reprieve; not a glimpse of commutation of the sentence; all hope and consolation is shut out--_shall suffer death!_ that is the simple fact for you to digest; and it is a tougher morsel, believe White-Jacket when he says it, than a forty-two-pound cannon-ball.
",
"
",
"Perhaps it means "_death, or worse punishment_."
",
"
",
"It admonishes you to take all bad usage in good part, and never to join in any public meeting that may be held on the gun-deck for a redress of grievances.
",
"
",
"XIII.
",
"
",
""If any person in the navy shall make, or attempt to make, any mutinous assembly, he shall, on conviction thereof by a court martial, suffer death."
",
"
",
"But give ear again.
",
"
",
"XIV.
",
"
",
"Do they not, indeed?
",
"
",
"Every morning, in port, are you not roused from your hammock by the _reveille_, and sent to it again at nightfall by the _tattoo?_ Every Sunday are you not commanded in the mere matter of the very dress you shall wear through that blessed day?
",
"
",
"Can your shipmates so much as drink their "tot of grog?"
",
"
",
"Speak you true?
",
"
",
"I was not born a serf, and will not live a slave!
",
"
",
"Part of Sec.
",
"
",
"I tell you there is no escape.
",
"
",
"They cannot be the indigenous growth of those political institutions, which are based upon that arch-democrat Thomas Jefferson's Declaration of Independence?
",
"
",
"It would almost seem as if, in this case, the British lawgivers were willing to leave such a stigma out of an organic statute, and bestow the power of the lash in some less solemn, and perhaps less public manner.
",
"
",
"According to Article XV., "_No person in the Navy shall quarrel with any other person in the Navy, nor use provoking or reproachful words, gestures, or menaces, on pain of such punishment as a court-martial shall adjudge_."
",
"
",
"Have you not, many of you, a thousand times violated this law, and addressed to men, whose tongues were tied by this very Article, language which no landsman would ever hearken to without flying at the throat of his insulter?
",
"
",
"Not to make an example of him, nor to gratify any personal feeling, but to furnish one certain illustration of what is here asserted, I honestly declare that Captain Claret, of the Neversink, repeatedly violated this law in his own proper person.
",
"
",
"According to Article III., no officer, or other person in the Navy, shall be guilty of "oppression, fraud, profane swearing, drunkenness, or any other scandalous conduct."
",
"
",
"Again let me ask you, officers of the Navy, whether many of you have not repeatedly, and in more than one particular, violated this law?
",
"
",
"Now, if it be not so much the severity as the certainty of punishment that deters from transgression, how fatal to all proper reverence for the enactments of Congress must be this disregard of its statutes.
",
"
",
""Sick of your bargain, then, are you?"
",
"
",
""No, no!
",
"
",
"What for?
",
"
",
"No!
",
"
",
"But still better may we subscribe to the saying of Sir Matthew Hale in his History of the Common Law, that "the Martial Law, being based upon no settled principles, is, in truth and reality, no law, but something indulged rather than allowed as a law."
",
"
",
"Nor have there been wanting recent instances, illustrating the spirit of this code, even in cases where the letter of the code was not altogether observed.
",
"
"
]
},
{
name: "stdout",
output_type: "stream",
text: 
[
"xiii.]
",
"
",
"Nor is this the only instance where right and salutary principles, in themselves almost self-evident and infallible, have been advanced in justification of things, which in themselves are just as self-evidently wrong and pernicious.
",
"
",
"Indifferent as to who may be the parties concerned, I but desire to see wrong things righted, and equal justice administered to all.
",
"
",
"Had this gentleman had his way, our checker-boards would very soon have been pitched out of the ports.
",
"
",
"But quite as often as the law against smuggling spirits is transgressed by the unscrupulous sailors, the statutes against cards and dice are evaded.
",
"
",
"But this is not all.
",
"
",
"Now, in addition to having an eye on the master-at-arms and his aids, the day-gamblers must see to it, that every person suspected of being a _white-mouse_ or _fancy-man_, is like-wise dogged wherever he goes.
",
"
",
"Additional scouts are retained constantly to snuff at their trail.
",
"
",
"I say, Pounce, has any one been scouting around _you_ this morning?"
",
"
",
""I know'd it; I know'd the muffled dice was rattlin'!"
",
"
",
"says the master-at-arms to his other aid, "Leggs, how is it with _you_--any spies?"
",
"
",
""Halloo, you, sir!"
",
"
",
""What am I a-doin' now?"
",
"
",
""Can't a feller be workin' here, without being 'spected of Tom Coxe's traverse, up one ladder and down t'other?"
",
"
",
"On the other hand, when not actively engaged in his vocation, you would take the best specimen of a seaman for a landsman.
",
"
",
"There were but few of them, it is true, who had been in action; but that only made their narratives the more valuable.
",
"
",
"They conjured him to release them from their guns, and allow them to remain neutral during the conflict.
",
"
",
"The Macedonian, it seems, had gone into Norfolk with dispatches.
",
"
",
"But if Tawney spoke truth--and he was a truth-telling man this fact seemed counterbalanced by a circumstance he related.
",
"
",
"And though, in a frantic sea-fight, such a thing might be imputed to hurry and remissness, yet Tawney, a stickler for his tribe, always ascribed it to quite a different and less honourable cause.
",
"
",
"Who had spiked them?
",
"
",
"And how nationally disgraceful, in every conceivable point of view, is the IV.
",
"
",
"Yet I would not be at all understood as impugning his special good name.
",
"
",
"Tom!"
",
"
",
""SINK, BURN, AND DESTROY."
",
"
",
"Never was there better company than ever-glorious Jack.
",
"
",
"She called them gallant fellows, hearts of game; and bade them bring her more.
",
"
",
"It was a stormy time, my hearties!
",
"
",
"But we gave them better than they sent.
",
"
",
"That night, when all was over, I slept sound enough, with a box of cannister shot for my pillow!
",
"
",
""Yes; but I and one of the Lieutenants had a narrower escape than that.
",
"
",
""Noble Jack, I know you never brag, but tell us what you did yourself that day?"
",
"
",
""Why, my hearties, I did not do quite as much as my gun.
",
"
",
""How?
",
"
",
""Feel!
",
"
",
"Never mind what follows.
",
"
",
"Ay, that claw-footed old gallery is no longer in fashion; in Commodore's eyes, is no longer genteel.
",
"
",
"But once--it was a Sunday afternoon--I was pleasantly reclining in a particularly shady and secluded little niche between two lanyards, when I heard a low, supplicating voice.
",
"
",
"In the Neversink a few lungsful were forced down by artificial means.
",
"
",
"He was always to be found at his post, by night and by day.
",
"
",
"This young man never indulged in frivolous conversation; he only talked of the surgeon's prescriptions; his every word was a bolus.
",
"
",
"He never was known to smile; nor did he even look sober in the ordinary way; but his countenance ever wore an aspect of cadaverous resignation to his fate.
",
"
",
"He generally opened his shop for an hour or two every morning and evening.
",
"
",
"Several times when I felt in need of a little medicine, but was not ill enough to report myself to the surgeon at his levees, I would call of a morning upon his steward at the Sign of the Mortar, and beg him to give me what I wanted; when, without speaking a word, this cadaverous young man would mix me my potion in a tin cup, and hand it out through the little opening in his door, like the boxed-up treasurer giving you your change at the ticket-office of a theatre.
",
"
",
"But there was a little shelf against the wall of the door, and upon this I would set the tin cup for a while, and survey it; for I never was a Julius Caesar at taking medicine; and to take it in this way, without a single attempt at dis-guising it; with no counteracting little morsel to hurry down after it; in short to go to the very apothecary's in person, and there, at the counter, swallow down your dose, as if it were a nice mint-julep taken at the bar of a hotel--_this_ was a bitter bolus indeed.
",
"
",
"But, then, this pallid young apothecary charged nothing for it, and _that_ was no small satisfaction; for is it not remarkable, to say the least, that a shore apothecary should actually charge you money--round dollars and cents--for giving you a horrible nausea?
",
"
",
"Seldom or never did it do me any lasting good.
",
"
",
"If anything is going on in any of its departments which he judges to be detrimental to the healthfulness of the crew, he has a right to protest against it formally to the Captain.
",
"
",
"When a man is being scourged at the gangway, the Surgeon stands by; and if he thinks that the punishment is becoming more than the culprit's constitution can well bear, he has a right to interfere and demand its cessation for the time.
",
"
",
"Sooner might you tame the grizzly bear of Missouri than humanise a thing so essentially cruel and heartless.
",
"
",
"He asked me whether any of my family were consumptive; whether I ever felt a tendency to a rush of blood to the head; whether I was gouty; how often I had been bled during my life; how long I had been ashore; how long I had been afloat; with several other questions which have altogether slipped my memory.
",
"
",
"It was a leading question which somewhat staggered me, but I said not a word; when, feeling of my calves, he looked up and incomprehensibly said, "I am afraid you are not."
",
"
",
"This Assistant Surgeon turned out to be a very singular character, and when I became more acquainted with him, I ceased to marvel at the curious question with which he had concluded his examination of my person.
",
"
",
"But, as with every other matter in the Navy, the whole thing is subject to the general discipline of the vessel, and is conducted with a severe, unyielding method and regularity, making no allowances for exceptions to rules.
",
"
",
"If, after looking at your tongue, and feeling of your pulse, he pronounces you a proper candidate, his secretary puts you down on his books, and you are thenceforth relieved from all duty, and have abundant leisure in which to recover your health.
",
"
",
"But you must not be too much elated, for your immunities are only secure while you are immured in the dark hospital below.
",
"
",
"There is a story told somewhere of the Devil taking down the confessions of a woman on a strip of parchment, and being obliged to stretch it longer and longer with his teeth, in order to find room for all the lady had to say.
",
"
",
"Where the chickens went, some one must have known; but, as I cannot vouch for it myself, I will not here back the hardy assertion of the men, which was that the pious Pelican--true to his name--was extremely fond of poultry.
",
"
",
"I am the still less disposed to believe this scandal, from the continued leanness of the Pelican, which could hardly have been the case did he nourish himself by so nutritious a dish as the drum-sticks of fowls, a diet prescribed to pugilists in training.
",
"
",
"But who can avoid being suspicious of a very suspicious person?
",
"
",
"I rather suspect you still.
",
"
",
""I know'd it, I know'd it," said Priming, through his nose.
",
"
",
"But dam'me, I know'd it.
",
"
",
"Poor Shenly!
",
"
",
"But how is he now?
",
"
",
"Have you been down to see him, any on ye?
",
"
",
"Damn you, you Jonah!
",
"
",
"White-Jacket there is my particular friend, and I would take it as a particular favour if you would _knock off_ blasting him.
",
"
",
""Must I be all the time cleaning after you fellows?
",
"
",
"I spent an hour on that 'ere gun-carriage this very mornin'.
",
"
",
"If it warn't for having one too many, there wouldn't be any crowding and jamming in the mess.
",
"
",
""I wish you would, and be ---- to you!"
",
"
",
"he replied.
",
"
",
""That you will," cried all.
",
"
",
""And I wish to the Lord you'd let me!"
",
"
",
"All I could say in private to Priming had no effect; though I often took him aside, to convince him of the philosophical impossibility of my having been accessary to the misfortunes of Baldy, the buried sailor in Rio, and Shenly.
",
"
",
"But Priming knew better; nothing could move him; and he ever afterward eyed me as virtuous citizens do some notorious underhand villain going unhung of justice.
",
"
",
"He told me he had a wife and two children in Portsmouth, in the state of New Hampshire.
",
"
",
"Upon being examined by Cuticle, the surgeon, he was, on purely scientific grounds, reprimanded by that functionary for not having previously appeared before him.
",
"
",
"He was immediately consigned to one of the invalid cots as a serious case.
",
"
",
"His complaint was of long standing; a pulmonary one, now attended with general prostration.
",
"
",
"Poor Shenly!
",
"
",
"But I only hopes; I'm afeard this ar'n't the last on him!"
",
"
",
"I resolved that, if I could help it, it should not take place upon the remains of Shenly.
",
"
",
"That last thing you do to the canvas is the very reason, be sure of it, that brings the ghosts after you, as you say.
",
"
",
"So don't do it to this poor fellow, I entreat.
",
"
",
"Try once, now, how it goes not to do it."
",
"
",
""What do you say to the youngster, old man?"
",
"
",
"I'm blest if they could sleep sound, if it wa'n't for that.
",
"
",
"No, no, Thrummings!
",
"
",
"no innowations; I won't hear on't.
",
"
",
""S'pose you was going to be sewed up yourself, old Ringrope, would you like the last stitch then!
",
"
",
""Take that back!"
",
"
",
"At the reiterated command of his superior, Ringrope rose, and, turning to his comrade, said, "I take it all back, Thrummings, and I'm sorry for it, too.
",
"
",
""Don't do it--don't do it, now, Thrummings--depend on it, it's wrong!"
",
"
",
"In the Purser's opinion, this settled the question; and it is to be hoped that the widow duly received her husband's death-earned wages.
",
"
",
"He was domiciled in the Ward-room, and circulated there on a social par with the Purser, Surgeon, and other _non-combatants_ and Quakers.
",
"
",
"By being advanced to the dignity of a peerage in the Ward-room, Science and Learning were ennobled in the person of this Professor, even as divinity was honoured in the Chaplain enjoying the rank of a spiritual peer.
",
"
",
"Presidents of Peace Societies and Superintendents of Sabbath-schools, must it not have been a most interesting sight?
",
"
",
"But the Professor himself was a noteworthy person.
",
"
",
"In early life he had been a cadet in the military academy of West Point; but, becoming very weak-sighted, and thereby in a good manner disqualified for active service in the field, he had declined entering the army, and accepted the office of Professor in the Navy.
",
"
",
"His studies at West Point had thoroughly grounded him in a knowledge of gunnery; and, as he was not a little of a pedant, it was sometimes amusing, when the sailors were at quarters, to hear him criticise their evolutions at the batteries.
",
"
",
"He had arrived at his knowledge of tactics by silent, solitary study, and earnest meditation in the sequestered retreat of his state-room.
",
"
",
"This done, with a cutlass he would point out every spot of interest.
",
"
",
""Blaze away, by all means!"
",
"
",
"responded a rather confident reefer, who had zealously been observing the diagram.
",
"
",
""Wait till he _does_ come in range, and _then_ blaze away," said the reefer.
",
"
",
""Permit me to remark, Mr. Pert, that '_blaze away_' is not a strictly technical term; and also permit me to hint, Mr. Pert, that you should consider the subject rather more deeply before you hurry forward your opinion."
",
"
",
"This rebuke not only abashed Mr. Pert, but for a time intimidated the rest; and the professor was obliged to proceed, and extricate the British fleet by himself.
",
"
",
"He concluded by awarding Admiral Rodney the victory, which must have been exceedingly gratifying to the family pride of the surviving relatives and connections of that distinguished hero.
",
"
",
"now asked Mr. Pert, brightening up.
",
"
",
"Her bowsprit is gone; her rudder is torn away; she has one hundred round shot in her hull, and two thirds of her men are dead or dying.
",
"
",
"What's to be done?
",
"
",
""Well, sir," said Mr.
",
"
",
"I would, by Jove!"
",
"
",
""I think, sir," said Mr.
",
"
",
""And why so?
",
"
",
"of what service would _that_ be, I should like to know, Mr.
",
"
",
""I can't tell exactly; but I think it would help her a little," was the timid reply.
",
"
",
""Well, sir," cried Mr.
",
"
",
""Idle, idle, sir!
",
"
",
"worse than idle!
",
"
",
"you are carried away, Mr.
",
"
",
"And it may well be imagined that the five hundred heads of hair and five hundred beards of a frigate should furnish no small employment for those to whose faithful care they may be intrusted.
",
"
",
"They are rated as _able seamen_ or _ordinary seamen_, and receive their wages as such; but in addition to this, they are liberally recompensed for their professional services.
",
"
",
"Considering the circumstances, however, not much objection can be made to the barbers on this score.
",
"
",
"But there were instances of men in the Neversink receiving government money in part pay for work done for private individuals.
",
"
",
"At what?
",
"
",
"What did the Captain pay them for their trouble?
",
"
",
"Nothing.
",
"
",
"To return.
",
"
",
"Their furniture, however, was not very elaborate, hardly equal to the sumptuous appointments of metropolitan barbers.
",
"
",
"No Psyche glasses; no hand-mirror; no ewer and basin; no comfortable padded footstool; nothing, in short, that makes a shore "_shave_" such a luxury.
",
"
",
"But this is no matter for wonder, since so many chins are to be shaven, and a razor-case holds but two razors.
",
"
",
"No private brushes and boxes; no reservations whatever.
",
"
",
"Ambitious of redundant mops, these still suffered their carrots to grow, spite of all ridicule.
",
"
",
"Such a Bartholomew's Day and Sicilian Vespers of assassinated beards!
",
"
",
"who would believe it!
",
"
",
"It needs that this sad and most serious matter should be faithfully detailed.
",
"
",
"They said it was unseamanlike; not _ship-shape;_ in short, it was disgraceful to the Navy.
",
"
",
"But, to do him justice--as I always have done--the Captain's beard did not exceed the limits prescribed by the Navy Department.
",
"
",
"But legislators do not always square their statutes by those of the Bible.
",
"
",
"A pretty set of savages, thought he, am I taking home to America; people will think them all catamounts and Turks.
",
"
",
"Besides, now that I think of it, it's against the law.
",
"
",
"It will never do.
",
"
",
"They must be shaven and shorn--that's flat.
",
"
",
"There is no knowing, indeed, whether these were the very words in which the Captain meditated that night; for it is yet a mooted point among metaphysicians, whether we think in words or whether we think in thoughts.
",
"
",
"He was afterwards discovered to have been tipsy at the time.
",
"
",
"This was an amendment, to be sure; but what barbarity, after all!
",
"
",
"What!
",
"
",
"not thirty days' run from home, and lose our magnificent homeward-bounders!
",
"
",
"Lose them at one fell swoop?
",
"
",
"were they also to be shorn?
",
"
",
"But _now_, Captain Claret!
",
"
",
"and, by Heaven, we will not submit.
",
"
",
"This is no way to get what you want.
",
"
",
"So!
",
"
",
"away you go!"
",
"
",
"Captain Claret happened to be taking a nap in his cabin at the moment of the disturbance; and it was quelled so soon that he knew nothing of it till it was officially reported to him.
",
"
",
"And great care is to be taken, by timely management, to avert an incontestable act of mutiny, and so prevent men from being roused, by their own consciousness of transgression, into all the fury of an unbounded insurrection.
",
"
",
"you did right, and no one else could have acquitted himself better.
",
"
",
"By your crafty simplicity, good-natured daring, and off-handed air (as if nothing was happening) you perhaps quelled a very serious affair in the bud, and prevented the disgrace to the American Navy of a tragical mutiny, growing out of whiskers, soap-suds, and razors.
",
"
",
"Beforehand, they denounced that man who should abase himself by compliance.
",
"
",
"at which any one but a barber or a Tartar would have wept!
",
"
",
"how can you rest in your hammock!
",
"
",
"Have you no feeling for beards, my friend?
",
"
",
""Two summers have gone by since my chin has been reaped.
",
"
",
"barber, have you no heart?
",
"
",
"Think of _that_, barber!
",
"
",
"Oh!
",
"
",
"You have not?
",
"
",
"It was an imposing display.
",
"
",
"They ought to have commanded the veneration of the most frivolous or magisterial beholder.
",
"
",
"Even Captain Claret they ought to have humiliated into deference.
",
"
",
"Such an array of beards!
",
"
",
"it promoted my longevity to behold you.
",
"
",
"and must not old Ushant have been living in Chaucer's time, that Chaucer could draw his portrait so well?"
",
"
",
""You knew the order!"
",
"
",
"did he ever yet miss his muster?
",
"
",
""What's that, sir?
",
"
",
"he added, turning round upon the rest, "I give you fifteen minutes to have those beards taken off; if they then remain on your chins, I'll flog you--every mother's son of you--though you were all my own god-fathers!"
",
"
",
"No!
",
"
",
"I will not wear a hair, since I cannot wear all!"
",
"
",
""Well, sir, will you have that beard taken off?
",
"
",
"you have slept over it a whole night now; what do you say?
",
"
",
""Will you take it off?"
",
"
",
""It is mine, sir?"
",
"
",
"quarter-masters, seize him up!
",
"
",
""You are a very old man," he said, "and I am sorry to flog you; but my orders must be obeyed.
",
"
",
"I will give you one more chance; will you have that beard taken off?"
",
"
",
"I will put on my own garment.
",
"
",
"I am never the worse for it, man; and 'tis no dishonour when he who would dishonour you, only dishonours himself."
",
"
",
""What says he?"
",
"
",
"Tell it to me, sir, if you dare!
",
"
",
"John Ushant, you have been Captain of the Forecastle; I break you.
",
"
",
""Sen-try, I am ready."
",
"
",
"Books were allowed him, and he spent much time in reading.
",
"
",
"But even had he complied with these entreaties, from precedents in similar cases, it is almost certain that not a sou's worth of satisfaction would have been received.
",
"
",
"As for Captain Claret, let it not be supposed that it is here sought to impale him before the world as a cruel, black-hearted man.
",
"
",
"Such he was not.
",
"
",
"What he was, the usages of the Navy had made him.
",
"
",
"Had he been a mere landsman--a merchant, say--he would no doubt have been considered a kind-hearted man.
",
"
",
"The multitude of the dispirited vanquished were obliged to acquiesce; but many Saxon Franklins and gentlemen of spirit, choosing rather to lose their castles than their mustaches, voluntarily deserted their firesides, and went into exile.
",
"
",
"But though, from peculiar circumstances, his case occasioned a good deal of indignation among the people of the Neversink, yet, upon its own proper grounds, they did not denounce it.
",
"
",
"And here, though the subject of punishment in the Navy has been canvassed in previous chapters, and though the thing is every way a most unpleasant and grievous one to enlarge upon, and though I painfully nerve myself to it while I write, a feeling of duty compels me to enter upon a branch of the subject till now undiscussed.
",
"
",
"I would not be like the man, who, seeing an outcast perishing by the roadside, turned about to his friend, saying, "Let us cross the way; my soul so sickens at this sight, that I cannot endure it."
",
"
",
"Let us not be of such.
",
"
",
"Indeed, it would cover a thousand.
",
"
",
"In some cases, the attending surgeon has professionally interfered before the last lash has been given, alleging that immediate death must ensue if the remainder should be administered without a respite.
",
"
",
"Shylock must have his pound of flesh.
",
"
",
"Instances have occurred where he has expired the day after the punishment.
",
"
",
"In the Neversink there was something less than fifty, two thirds of whom were Irishmen.
",
"
",
"What, then, were they for?
",
"
",
"If comparatively so useless as soldiers, why have marines at all in the Navy?
",
"
",
"It is unmanning to think of.
",
"
",
"They are always "_wanted_."
",
"
",
"Still, the circumstance of their being found in it is of such a nature, that to some it may hardly appear credible.
",
"
",
""Where are you going, Guinea?"
",
"
",
""Where are you going, Guinea?"
",
"
",
"said the slave, with a low salutation; "I can't 'tand it; I can't, indeed, massa!"
",
"
",
"Accustomed to light and easy duties from his birth, and so fortunate as to meet with none but gentle masters, Guinea, though a bondman, liable to be saddled with a mortgage, like a horse--Guinea, in India-rubber manacles, enjoyed the liberties of the world.
",
"
",
"Nevertheless, it was evident, that as for any high-toned patriotic feeling, there was comparatively very little--hardly any of it--evinced by our sailors as a body.
",
"
",
"Upon reflection, this was not to be wondered at.
",
"
",
"This will be obvious, when the following statistical facts, taken from Macpherson's Annals of Commerce, are considered.
",
"
",
"This remark is perfectly corroborated by other testimony referring to another period.
",
"
",
"It cannot be done.
",
"
",
"There must be enough men to work all the guns at one time.
",
"
",
"Dibdin was a man of genius; but no wonder Dibdin was a government pensioner at L200 per annum.
",
"
",
"Nothing ever disconcerted him; nothing could transmute his laugh into anything like a sigh.
",
"
",
"Now take my advice, and steer clear of all trouble.
",
"
",
"And it is just such Happy Jacks as Landless that most sea-officers profess to admire; a fellow without shame, without a soul, so dead to the least dignity of manhood that he could hardly be called a man.
",
"
",
"The reason is, they feel such a man to be a continual reproach to them, as being mentally superior to their power.
",
"
",
"He has no business in a man-of-war; they do not want such men.
",
"
",
"To them there is an insolence in his manly freedom, contempt in his very carriage.
",
"
",
"Nor is there any government, however despotic, that ventures to deny to the least of its subjects the privilege of a sociable chat.
",
"
",
"No!
",
"
",
"when I smoke, be it because of my sovereign good pleasure I choose so to do, though at so unseasonable an hour that I send round the town for a brasier of coals.
",
"
",
"What!
",
"
",
"No!
",
"
",
"What they should do when they landed; how they should invest their wages; what they should eat; what they should drink; and what lass they should marry--these were the topics which absorbed them.
",
"
",
""My wages will buy a wheelbarrow, if nothing more."
",
"
",
"say I."
",
"
",
""What lingo is that?"
",
"
",
"But do men ever hate the thing they love?
",
"
",
"What, then, must the Navy be?
",
"
",
"generous-hearted tars!
",
"
",
"In the course of this business, there is a multitude of sheeve-holes and blocks, through which you must pass it; often the rope is a very tight fit, so as to make it like threading a fine cambric needle with rather coarse thread.
",
"
",
"Indeed, it is a thing only deftly to be done, even by day.
",
"
",
"A bloody film was before my eyes, through which, ghost-like, passed and repassed my father, mother, and sisters.
",
"
",
"An utterable nausea oppressed me; I was conscious of gasping; there seemed no breath in my body.
",
"
",
"All I had seen, and read, and heard, and all I had thought and felt in my life, seemed intensified in one fixed idea in my soul.
",
"
",
"But dense as this idea was, it was made up of atoms.
",
"
",
"So protracted did my fall seem, that I can even now recall the feeling of wondering how much longer it would be, ere all was over and I struck.
",
"
",
"I strove to tear it off; but it was looped together here and there, and the strings were not then to be sundered by hand.
",
"
",
"Sink!
",
"
",
"sink!
",
"
",
"No!
",
"
",
"Not so.
",
"
",
"Does not this show, too, that the very air we here inhale is uncongenial, and only becomes endurable at last through gradual habituation, and that some blessed, placid haven, however remote at present, must be in store for us all?
",
"
",
"Oppressed by illiberal laws, and partly oppressed by themselves, many of our people are wicked, unhappy, inefficient.
",
"
"
]
}
],
source: 
[
"## Printing all misclassified Melville sentences
",
"
",
"for i in range(len(melville_test_sentences)):
",
"    if melville_sentence_classifications[i] == 1.0:
",
"        print(melville_test_sentences[i])
",
"        print()"
]
},
{
cell_type: "code",
execution_count: null,
metadata: { },
outputs: [ ],
source: [ ]
},
{
cell_type: "markdown",
metadata: { },
source: 
[
"# *Creating a text concordance with NLTK*"
]
},
{
cell_type: "code",
execution_count: 38,
metadata: { },
outputs: 
[
{
name: "stdout",
output_type: "stream",
text: 
[
"Displaying 100 of 1073 matches:
",
"                                     WHALE . By Herman Melville ETYMOLOGY . ( S
",
"t which is not true. ” —Hackluyt . “ WHALE . * * * Sw. and Dan . hval . This an
",
"ulted. ” —Webster ’ s Dictionary . “ WHALE . * * * It is more immediately from 
",
"ish . WAL , Dutch . HWAL , Swedish . WHALE , Icelandic . WHALE , English . BALE
",
"HWAL , Swedish . WHALE , Icelandic . WHALE , English . BALEINE , French . BALLE
",
"t least , take the higgledy-piggledy whale statements , however authentic , in 
",
" dreadful gulf of this monster ’ s ( whale ’ s ) mouth , are immediately lost a
",
"of patient Job. ” —Rabelais . “ This whale ’ s liver was two cartloads. ” —Stow
",
" Touching that monstrous bulk of the whale or ork we have received nothing cert
",
"restless paine , Like as the wounded whale to shore flies thro ’ the maine. ” —
",
". Of Sperma Ceti and the Sperma Ceti Whale . Vide his V. E. “ Like Spencer ’ s 
",
"en ’ s Annus Mirabilis . “ While the whale is floating at the stern of the ship
",
"onas-in-the-Whale ... . Some say the whale can ’ t open his mouth , but that is
",
" masts to see whether they can see a whale , for the first discoverer has a duc
",
" for his pains ... . I was told of a whale taken near Shetland , that had above
",
"oneers told me that he caught once a whale in Spitzbergen that was white all ov
",
"can master and kill this Sperma-ceti whale , for I could never hear of any of t
",
". 1729 . “ ... and the breath of the whale is frequently attended with such an 
",
"contemptible in the comparison . The whale is doubtless the largest animal in c
",
"rock , but it was found to be a dead whale , which some Asiatics had killed , a
",
"vor to conceal themselves behind the whale , in order to avoid being seen by us
",
" Iceland in 1772 . “ The Spermacetti Whale found by the Nantuckois , is an acti
",
"e fishermen. ” —Thomas Jefferson ’ s Whale Memorial to the French minister in 1
",
"cket Whale-Fishery . “ Spain—a great whale stranded on the shores of Europe. ” 
",
" the right to royal fish , which are whale and sturgeon . And these , when eith
",
"ean serves on high , Up-spouted by a whale in air , To express unwieldy joy. ” 
",
"r ’ s account of the dissection of a whale . ( A small sized one . ) “ The aort
",
"small sized one . ) “ The aorta of a whale is larger in the bore than the main 
",
"locity to the blood gushing from the whale ’ s heart. ” —Paley ’ s Theology . “
",
"heart. ” —Paley ’ s Theology . “ The whale is a mammiferous animal without hind
",
" Purpose of Extending the Spermaceti Whale Fishery . “ In the free element bene
",
"nny people ’ s king . Not a mightier whale than this In the vast Atlantic is ; 
",
". ” —Charles Lamb ’ s Triumph of the Whale . “ In the year 1690 some persons we
",
"m of a Gothic Arch , by setting up a whale ’ s jaw bones. ” —Hawthorne ’ s Twic
",
"irst love , who had been killed by a whale in the Pacific ocean , no less than 
",
"” —Ibid . “ No , Sir , ‘ tis a Right Whale , ” answered Tom ; “ I saw his sprou
",
" “ Narrative of the Shipwreck of the Whale Ship Essex of Nantucket , which was 
",
"d finally destroyed by a large Sperm Whale in the Pacific Ocean. ” By Owen Chac
",
" phospher gleamed in the wake of the whale , As it floundered in the sea. ” —El
",
"s engaged in the capture of this one whale , amounted altogether to 10,440 yard
",
" English miles ... . “ Sometimes the whale shakes its tremendous tail in the ai
",
"fresh attacks , the infuriated Sperm Whale rolls over and over ; he rears his e
",
"o important an animal ( as the Sperm Whale ) should have been so entirely negle
",
"homas Beale ’ s History of the Sperm Whale , 1839 . “ The Cachalot ” ( Sperm Wh
",
"le , 1839 . “ The Cachalot ” ( Sperm Whale ) “ is not only better armed than th
",
" not only better armed than the True Whale ” ( Greenland or Right Whale ) “ in 
",
"he True Whale ” ( Greenland or Right Whale ) “ in possessing a formidable weapo
",
"tack of all the known species of the whale tribe. ” —Frederick Debell Bennett ’
",
"” “ Mast-head ahoy ! Do you see that whale now ? ” “ Ay ay , sir ! A shoal of S
",
" A.D. 1828 . Being once pursued by a whale which he had wounded , he parried th
",
"eakwater at Nantucket . 1828 . “ The whale fell directly over him , and probabl
",
"ly killed him in a moment. ” — “ The Whale and his Captors , or The Whaleman ’ 
",
" The Whaleman ’ s Adventures and the Whale ’ s Biography , gathered on the Home
",
"now in laying open the haunts of the whale , the whalemen seem to have indirect
",
"re the ribs of whales. ” —Tales of a Whale Voyager to the Arctic Ocean . “ It w
",
" which they departed. ” —Cruise in a Whale Boat . “ Suddenly a mighty mass emer
",
"s the whale. ” —Miriam Coffin or the Whale Fisherman . “ The Whale is harpooned
",
"offin or the Whale Fisherman . “ The Whale is harpooned to be sure ; but bethin
",
" the distended jaws of a large Sperm Whale close to the head of the boat , thre
",
" , for your lives ! ’ ” —Wharton the Whale Killer . “ So be cheery , my lads , 
",
" the bold harpooneer is striking the whale ! ” —Nantucket Song . “ Oh , the rar
",
"Nantucket Song . “ Oh , the rare old Whale , mid storm and gale In his ocean ho
",
"s the overwhelming idea of the great whale himself . Such a portentous and myst
",
"deliverable , nameless perils of the whale ; these , with all the attending mar
",
"st soul , endless processions of the whale , and , mid most of them all , one g
",
" place where the first dead American whale was stranded . Where else but from N
",
"s alone visible ; and an exasperated whale , purposing to spring clean over the
",
" Javan seas , and run away with by a whale , years afterwards slain off the Cap
",
"en—the bar—a rude attempt at a right whale ’ s head . Be that how it may , ther
",
"e stands the vast arched bone of the whale ’ s jaw , so wide , a coach might al
",
"at they made a straight wake for the whale ’ s mouth—the bar—when the wrinkled 
",
"eboard representing a man striking a whale . Of things not properly belonging t
",
"IZA Who were towed out of sight by a Whale , On the Off-shore Ground in the PAC
",
"ws of his boat was killed by a Sperm Whale on the coast of Japan , August 3d , 
",
"d joy— “ The ribs and terrors in the whale , Arched over me a dismal gloom , Wh
",
"is ear to my complaints— No more the whale did me confine . “ With speed he fle
",
"ent of that stifling hour , when the whale shall hold him in the smallest of hi
",
" heeds he the far rush of the mighty whale , which even now with open mouth is 
",
" yawning jaws awaiting him ; and the whale shoots-to all his ivory teeth , like
",
"iverance of him from the sea and the whale . Shipmates , I do not place Jonah b
",
"have seen , God came upon him in the whale , and swallowed him down to living g
",
"out of the belly of hell ’ —when the whale grounded upon the ocean ’ s utmost b
",
" cold and blackness of the sea , the whale came breeching up towards the warm a
",
"and side by side the world-wandering whale ships lay silent and safely moored a
",
"small-e fish-e ; Queequeg kill-e big whale ! ” “ Look you , ” roared the Captai
",
"were the lower jaw of an exasperated whale . In the midst of this consternation
",
"th the long sharp teeth of the sperm whale , inserted there for pins , to faste
",
" , sir ? Was the other one lost by a whale ? ” “ Lost by a whale ! Young man , 
",
" one lost by a whale ? ” “ Lost by a whale ! Young man , come nearer to me : it
",
"peculiar ferocity in that particular whale , though indeed I might have inferre
",
"e man to pitch a harpoon down a live whale ’ s throat , and then jump after it 
",
"his leg last voyage by that accursed whale , he ’ s been a kind of moody—desper
",
"? You see him ? well , spose him one whale eye , well , den ! ” and taking shar
",
" spos-ee him whale-e eye ; why , dad whale dead. ” “ Quick , Bildad , ” said Pe
",
"es are in the green locker ! Don ’ t whale it too much a ’ Lord ’ s days , men 
",
" append the initials S.W.F . ( Sperm Whale Fishery ) to his visiting card , suc
",
"ecoil at the apparition of the sperm whale ’ s vast tail , fanning into eddies 
",
" But , though the world scouts at us whale hunters , yet does it unwittingly pa
",
"e world ! Oh , the world ! Until the whale fishery rounded Cape Horn , no comme
",
"with a split helmet every time . The whale has no famous author , and whaling n
"
]
}
],
source: 
[
"import nltk
",
"from nltk.tokenize import word_tokenize
",
"
",
"tokens = word_tokenize(melville_texts[6])
",
"
",
"nltk_text = nltk.Text(tokens)
",
"
",
"nltk_text.concordance('whale', lines=100)"
]
},
{
cell_type: "code",
execution_count: null,
metadata: { },
outputs: [ ],
source: [ ]
}
],
metadata: 
{
kernelspec: 
{
display_name: "Python 3",
language: "python",
name: "python3"
},
language_info: 
{
codemirror_mode: 
{
name: "ipython",
version: 3
},
file_extension: ".py",
mimetype: "text/x-python",
name: "python",
nbconvert_exporter: "python",
pygments_lexer: "ipython3",
version: "3.5.2"
}
},
nbformat: 4,
nbformat_minor: 2
}
+-View sourceoptions