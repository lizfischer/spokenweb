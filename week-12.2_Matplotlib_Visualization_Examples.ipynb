{
cells: [
{
cell_type: "markdown",
metadata: { },
source: [
"# Matplotlib Visualization Examples ",
"Matplotlib is a great library to use for plotting charts in Python. Extra helpful is the [python gallery](https://python-graph-gallery.com/matplotlib/) where you can find examples on how to make and tweak almost any chart you might want to make. "
]
},
{
cell_type: "markdown",
metadata: { },
source: [
"## *Wordclouds*"
]
},
{
cell_type: "code",
execution_count: 1,
metadata: { },
outputs: [
{
name: "stdout",
output_type: "stream",
text: [
"Collecting git+git://github.com/amueller/word_cloud.git ",
" Cloning git://github.com/amueller/word_cloud.git to /tmp/pip-4_39esy5-build ",
" Requirement already satisfied (use --upgrade to upgrade): wordcloud==1.4.1 from git+git://github.com/amueller/word_cloud.git in /usr/local/lib/python3.5/dist-packages ",
"Requirement already satisfied: matplotlib in /usr/local/lib/python3.5/dist-packages (from wordcloud==1.4.1) ",
"Requirement already satisfied: numpy>=1.6.1 in /usr/local/lib/python3.5/dist-packages (from wordcloud==1.4.1) ",
"Requirement already satisfied: pillow in /usr/local/lib/python3.5/dist-packages (from wordcloud==1.4.1) ",
"Requirement already satisfied: pytz in /usr/local/lib/python3.5/dist-packages (from matplotlib->wordcloud==1.4.1) ",
"Requirement already satisfied: kiwisolver>=1.0.1 in /usr/local/lib/python3.5/dist-packages (from matplotlib->wordcloud==1.4.1) ",
"Requirement already satisfied: python-dateutil>=2.1 in /usr/local/lib/python3.5/dist-packages (from matplotlib->wordcloud==1.4.1) ",
"Requirement already satisfied: cycler>=0.10 in /usr/local/lib/python3.5/dist-packages (from matplotlib->wordcloud==1.4.1) ",
"Requirement already satisfied: pyparsing!=2.0.4,!=2.1.2,!=2.1.6,>=2.0.1 in /usr/local/lib/python3.5/dist-packages (from matplotlib->wordcloud==1.4.1) ",
"Requirement already satisfied: six>=1.10 in /usr/local/lib/python3.5/dist-packages (from matplotlib->wordcloud==1.4.1) ",
"Requirement already satisfied: setuptools in /usr/lib/python3/dist-packages (from kiwisolver>=1.0.1->matplotlib->wordcloud==1.4.1) ",
"[33mYou are using pip version 9.0.1, however version 9.0.3 is available. ",
"You should consider upgrading via the 'pip install --upgrade pip' command.[0m "
]
}
],
source: [
"!pip install git+git://github.com/amueller/word_cloud.git"
]
},
{
cell_type: "code",
execution_count: null,
metadata: { },
outputs: [ ],
source: [
"from urllib.request import urlopen ",
" ",
"some_text = urlopen('http://www.gutenberg.org/cache/epub/12242/pg12242.txt').read().decode('utf8') ",
" ",
"some_text[:1000]"
]
},
{
cell_type: "code",
execution_count: null,
metadata: { },
outputs: [ ],
source: [
"from matplotlib import pyplot as plt ",
"from wordcloud import WordCloud ",
" ",
"wordcloud = WordCloud(width = 1000, height = 500).generate(some_text) ",
" ",
"plt.figure() ",
"plt.imshow(wordcloud) ",
"plt.axis("off") ",
"plt.margins(x=0, y=0) ",
"plt.show()"
]
},
{
cell_type: "markdown",
metadata: { },
source: [
"# *MOMA Visualization Examples*"
]
},
{
cell_type: "code",
execution_count: null,
metadata: { },
outputs: [ ],
source: [
"from urllib.request import urlopen ",
"import csv ",
"import numpy as np ",
"from matplotlib import pyplot as plt ",
"%matplotlib inline ",
"!rm Artworks.csv"
]
},
{
cell_type: "code",
execution_count: null,
metadata: { },
outputs: [ ],
source: [
"## Downloading Museum of Modern Art metadata CSV ",
" ",
"!wget https://media.githubusercontent.com/media/MuseumofModernArt/collection/master/Artworks.csv"
]
},
{
cell_type: "code",
execution_count: null,
metadata: { },
outputs: [ ],
source: [
"## Loading CSV as list of lists ",
" ",
"metadata_table = [] ",
" ",
"with open('Artworks.csv') as csvfile: ",
" csv_reader = csv.reader(csvfile) ",
" for row in csv_reader: ",
" metadata_table.append(row) ",
" ",
"metadata_table[:3] # Viewing first 3 rows in table"
]
},
{
cell_type: "code",
execution_count: null,
metadata: { },
outputs: [ ],
source: [
"## Save first row to 'column_headers' variable, ",
"# then view field headers next to their index values ",
" ",
"column_headers = metadata_table[0] ",
" ",
"list(enumerate(column_headers))"
]
},
{
cell_type: "code",
execution_count: null,
metadata: { },
outputs: [ ],
source: [
"## Removing column header row (defined in the previous cell) from 'metadata_table' ",
" ",
"metadata_table.remove(column_headers)"
]
},
{
cell_type: "code",
execution_count: null,
metadata: { },
outputs: [ ],
source: [
"## Viewing a random metadata record. Run this cell a few times to get a feel for the schema. ",
" ",
"import random ",
" ",
"random.choice(metadata_table)"
]
},
{
cell_type: "code",
execution_count: null,
metadata: { },
outputs: [ ],
source: [
"## Viewing a random 'height' value ",
" ",
"import random ",
" ",
"row = random.choice(metadata_table) ",
"height = row[23] ",
"print(height)"
]
},
{
cell_type: "code",
execution_count: null,
metadata: { },
outputs: [ ],
source: [ ]
},
{
cell_type: "markdown",
metadata: { },
source: [
"## *Histograms: Height & Width*"
]
},
{
cell_type: "code",
execution_count: null,
metadata: { },
outputs: [ ],
source: [
"## Creating a list of 'height' values converted to floats, ignoring any missing or faulty values ",
" ",
"height_list = [] ",
" ",
"for row in metadata_table: ",
" try: ",
" height = float(row[23]) # Converting height value (at index 23) to float and assigning it to 'height' variable ",
" height_list.append(height) # Adding value to 'height_list' ",
" except: ",
" pass # If we get an error in the 'try' block above, we do nothing and move to the next row. ",
" # This happens when the 'height' field is empty, so it can't be converted to float. ",
" ",
"height_list[:10] # Viewing first 10 height values"
]
},
{
cell_type: "code",
execution_count: null,
metadata: { },
outputs: [ ],
source: [
"## Creating a list of 'width' values converted to floats, ignoring any missing or faulty values ",
" ",
"width_list = [] ",
" ",
"for row in metadata_table: ",
" try: ",
" width = float(row[26]) ",
" width_list.append(width) ",
" except: ",
" pass ",
" ",
" ",
"width_list[:10]"
]
},
{
cell_type: "code",
execution_count: null,
metadata: { },
outputs: [ ],
source: [
"## Comparing number of records in original metadata with extracted height and width lists ",
" ",
"print(len(metadata_table)) ",
"print(len(width_list)) ",
"print(len(height_list)) ",
" ",
"# Note that extracted lists are shorter than full metadata table, because we skipped missing values."
]
},
{
cell_type: "code",
execution_count: null,
metadata: { },
outputs: [ ],
source: [
"## Finding average width (for artworks that include that field) ",
" ",
"np.mean(width_list)"
]
},
{
cell_type: "code",
execution_count: null,
metadata: { },
outputs: [ ],
source: [
"## Creating a basic histogram ",
" ",
"import matplotlib.pyplot as plt ",
"%matplotlib inline ",
" ",
"plt.figure(figsize=(13,5)) ",
"plt.hist(width_list) ",
"plt.show() ",
" ",
"# This isn't very useful. Note that the x axis (i.e., width values) extends to 8000 cm, ",
"# meaning everything else is squeezed into one histogram bar."
]
},
{
cell_type: "code",
execution_count: null,
metadata: { },
outputs: [ ],
source: [
"## Viewing the biggest width values ",
" ",
"sorted(width_list)[::-1][:30]"
]
},
{
cell_type: "code",
execution_count: null,
metadata: { },
outputs: [ ],
source: [
"## Let's omit all width values above 1000 cm and break up the plot into 30 bins ",
" ",
"plt.figure(figsize=(13,5)) ",
" ",
"temp_width_list = [item for item in width_list if item<=1000] ",
" ",
"plt.hist(temp_width_list, bins=30) ",
" ",
"plt.show() ",
" ",
"# Getting closer ..."
]
},
{
cell_type: "code",
execution_count: null,
metadata: { },
outputs: [ ],
source: [
"## Omitting values above 200 cm and doubling the number of bins to 60 ",
" ",
"plt.figure(figsize=(13,5)) ",
" ",
"temp_width_list = [item for item in width_list if item<200] ",
" ",
"plt.hist(temp_width_list, bins=60) ",
" ",
"plt.show()"
]
},
{
cell_type: "code",
execution_count: null,
metadata: { },
outputs: [ ],
source: [
"## Plotting two overlaid histograms ",
" ",
"plt.figure(figsize=(13,5)) ",
" ",
"temp_width_list = [item for item in width_list if item<200] ",
"temp_height_list = [item for item in height_list if item<200] ",
" ",
"plt.hist(temp_width_list, alpha=0.5, label='Widths', bins=60) ",
"plt.hist(temp_height_list, alpha=0.5, label='Heights', bins=60) ",
" ",
"plt.legend(loc='upper right') ",
" ",
"plt.show()"
]
},
{
cell_type: "code",
execution_count: null,
metadata: { },
outputs: [ ],
source: [
"## Plotting two overlaid histograms with labels ",
" ",
"plt.figure(figsize=(13,7)) ",
" ",
"temp_width_list = [item for item in width_list if item<200] ",
"temp_height_list = [item for item in height_list if item<200] ",
" ",
"plt.hist(temp_width_list, alpha=0.5, label='Widths', bins=60) ",
"plt.hist(temp_height_list, alpha=0.5, label='Heights', bins=60) ",
" ",
"plt.legend(loc='upper right') ",
" ",
"plt.title('Height and Width Distributions') ",
"plt.xlabel('Centimeters') ",
"plt.ylabel('Number of artworks') ",
" ",
"plt.show()"
]
},
{
cell_type: "code",
execution_count: null,
metadata: { },
outputs: [ ],
source: [ ]
},
{
cell_type: "markdown",
metadata: { },
source: [
"## *Scatter Plots: Height and Width Pairs*"
]
},
{
cell_type: "code",
execution_count: null,
metadata: { },
outputs: [ ],
source: [
"## Creating a list of [height, width] coordinate pairs for each record with valid height and width values ",
" ",
"height_width_pairs = [] ",
" ",
"for row in metadata_table: ",
" try: ",
" height = float(row[23]) ",
" width = float(row[26]) ",
" pair = [height, width] ",
" height_width_pairs.append(pair) ",
" except: ",
" pass ",
" ",
"height_width_pairs[:10] # Viewing first 10 [height, width] pairs"
]
},
{
cell_type: "code",
execution_count: null,
metadata: { },
outputs: [ ],
source: [
"## Creating basic scatter plot ",
" ",
"import matplotlib.pyplot as plt ",
"%matplotlib inline ",
" ",
"x_list = [item[0] for item in height_width_pairs] # Creating a list of x values (index 0 in each pair) ",
"y_list = [item[1] for item in height_width_pairs] # Creating a list of y values (index 1 in each pair) ",
" ",
"plt.figure(figsize=(6,6)) ",
" ",
"plt.scatter(x_list, y_list, c='green', alpha=0.5) ",
" ",
"plt.show()"
]
},
{
cell_type: "code",
execution_count: null,
metadata: { },
outputs: [ ],
source: [
"## Narrowing visible plot to x and y values under 1000 cm ",
" ",
"x_list = [item[0] for item in height_width_pairs] # Creating a list of x values (index 0 in each pair) ",
"y_list = [item[1] for item in height_width_pairs] # Creating a list of x values (index 1 in each pair) ",
" ",
"plt.figure(figsize=(6,6)) ",
" ",
"plt.scatter(x_list, y_list, c='green', alpha=0.5) ",
" ",
"plt.ylim(ymin=0, ymax=1000) ",
"plt.xlim(xmin=0, xmax=1000) ",
" ",
"plt.show() ",
" ",
"# Getting closer, but still a bit indistinct. Let's zoom in further."
]
},
{
cell_type: "code",
execution_count: null,
metadata: { },
outputs: [ ],
source: [
"## Narrowing visible plot to x and y values under 200 cm and increasing plot size ",
" ",
"x_list = [item[0] for item in height_width_pairs] # Creating a list of x values (index 0 in each pair) ",
"y_list = [item[1] for item in height_width_pairs] # Creating a list of x values (index 1 in each pair) ",
" ",
"plt.figure(figsize=(9,9)) ## <-- Larger plot size ",
" ",
"plt.scatter(x_list, y_list, c='green', alpha=0.5) ",
" ",
"plt.ylim(ymin=0, ymax=200) ## <-- ymax=200 ",
"plt.xlim(xmin=0, xmax=200) ## <-- xmax=200 ",
" ",
"plt.show()"
]
},
{
cell_type: "code",
execution_count: null,
metadata: { },
outputs: [ ],
source: [ ]
},
{
cell_type: "markdown",
metadata: { },
source: [
"## *Pie Chart: Nationality*"
]
},
{
cell_type: "code",
execution_count: null,
metadata: { },
outputs: [ ],
source: [
"## Creating a list of all items in the 'Nationality' field ",
" ",
"nationality_list = [] ",
" ",
"for row in metadata_table: ",
" nationality_list.append(row[4]) ",
" ",
"nationality_list[:10] # Viewing first 10 items in nationality_list"
]
},
{
cell_type: "code",
execution_count: null,
metadata: { },
outputs: [ ],
source: [
"## Viewing a few more ",
" ",
"print(nationality_list[90]) ",
"print(nationality_list[8]) ",
"print(nationality_list[3329]) ",
"print(nationality_list[703])"
]
},
{
cell_type: "code",
execution_count: null,
metadata: { },
outputs: [ ],
source: [
"## Stripping parentheses from the beginning and end of each item in 'nationality_list' ",
" ",
"nationality_list_cleaned = [item.replace('() ', '').strip('()') for item in nationality_list] ",
" ",
"nationality_list_cleaned[10000:10010] ",
" ",
"# Note that some fields include multiple entries, so we're not done. Let's try again:"
]
},
{
cell_type: "code",
execution_count: null,
metadata: { },
outputs: [ ],
source: [
"## Splitting each item at ')' and discarding everything that follows. ",
"# We're also using .replace() to remove empty '()' entries when they appear first in a list of nationalities. ",
"# We're extracting the first nationality listed and discarding the rest, which may distort the data. ",
" ",
"nationality_list_cleaned = [item.replace('() ', '').split(')')[0].strip('()') for item in nationality_list] ",
" ",
"nationality_list_cleaned[10000:10010]"
]
},
{
cell_type: "code",
execution_count: null,
metadata: { },
outputs: [ ],
source: [
"### Pie chart with manual labels: ",
" ",
"## Looping through list of nationalities, keeping a tally of how many times various values appear ",
" ",
"american_tally = 0 ",
"french_tally = 0 ",
"british_tally = 0 ",
"missing_tally = 0 ",
"other_tally = 0 ",
" ",
" ",
"for item in nationality_list_cleaned: ",
" if item == 'American': ",
" american_tally += 1 ",
" elif item == 'French': ",
" french_tally += 1 ",
" elif item == 'British': ",
" british_tally += 1 ",
" elif item == '': ",
" missing_tally += 1 ",
" else: ",
" other_tally +=1"
]
},
{
cell_type: "code",
execution_count: null,
metadata: { },
outputs: [ ],
source: [
"### Pie chart with manual labels: ",
" ",
"import matplotlib.pyplot as plt ",
"%matplotlib inline ",
" ",
"plt.figure(figsize=(8,8)) ",
" ",
"## A list of numbers, each representing the size of a different category ",
"size_list = [american_tally, french_tally, british_tally, missing_tally, other_tally] ",
"print(size_list) ",
" ",
"## A list of labels corresponding in order with the size list above ",
"label_list = ['American', 'French', 'British', 'Missing nationality', 'Other'] ",
"print(label_list) ",
" ",
"## Colors corresponding in order with the lists above ",
"# List of color names: https://stackoverflow.com/questions/22408237/named-colors-in-matplotlib ",
"color_list = ['darksalmon', 'yellowgreen', 'lightcoral', 'lightskyblue', 'thistle'] ",
" ",
"# Plot ",
"plt.pie(size_list, labels=label_list, colors=color_list, autopct='%1.1f%%', shadow=True, startangle=100) ",
" ",
"plt.show()"
]
},
{
cell_type: "code",
execution_count: null,
metadata: { },
outputs: [ ],
source: [
"### Pie chart with automatic labels: ",
" ",
"## Creating a list of nationalities by how many times they appear in 'nationality_list', sorted in descending order ",
" ",
"from operator import itemgetter ",
"import collections ",
" ",
"counter = collections.Counter(nationality_list_cleaned) ",
" ",
"nationality_count_pairs = sorted(counter.most_common(), key=itemgetter(1,0), reverse=True) ",
" ",
"nationality_count_pairs[:10]"
]
},
{
cell_type: "code",
execution_count: null,
metadata: { },
outputs: [ ],
source: [
"## Creating separate, corresponding lists for nationality values and how many times they appear in MoMA's collection ",
" ",
"nationality_descending = [item[0] for item in nationality_count_pairs] ",
"count_descending = [item[1] for item in nationality_count_pairs] ",
" ",
"print(nationality_descending[:10]) ",
"print(count_descending[:10])"
]
},
{
cell_type: "code",
execution_count: null,
metadata: { },
outputs: [ ],
source: [
"### Pie chart with automatic labels: ",
" ",
"import matplotlib.pyplot as plt ",
"import numpy as np ",
" ",
"plt.figure(figsize=(8,8)) ",
" ",
"## A list of numbers, each representing the size of a different category ",
"size_list = count_descending ",
"print(size_list) ",
" ",
"## A list of labels corresponding in order with the size list above ",
"label_list = nationality_descending ",
"print(label_list) ",
" ",
"## Colors corresponding in order with the lists above, repeating ",
"# List of color names: https://stackoverflow.com/questions/22408237/named-colors-in-matplotlib ",
"color_list = ['darksalmon', 'yellowgreen', 'lightcoral', 'lightskyblue', 'thistle'] ",
" ",
"# Plot ",
"plt.pie(size_list, labels=label_list, colors=color_list, autopct='%1.1f%%', shadow=True, startangle=100) ",
" ",
"plt.show()"
]
},
{
cell_type: "code",
execution_count: null,
metadata: { },
outputs: [ ],
source: [ ]
},
{
cell_type: "code",
execution_count: null,
metadata: { },
outputs: [ ],
source: [
"### Pie chart with automatic labels: ",
" ",
"# Hiding labels for small values to make pie chart more readable ",
" ",
"import matplotlib.pyplot as plt ",
"import numpy as np ",
" ",
"plt.figure(figsize=(9,9)) ",
" ",
" ",
"## A list of numbers, each representing the size of a different category ",
"size_list = count_descending ",
" ",
"## A list of labels corresponding in order with the size list above ",
"label_list = nationality_descending[:10] + ['']*(len(nationality_descending)-10) ## Keeping the first 10 nationality labels ",
" ## and setting the rest to empty strings ",
"## Colors corresponding in order with the lists above, repeating ",
"# List of color names: https://stackoverflow.com/questions/22408237/named-colors-in-matplotlib ",
"color_list = ['darksalmon', 'yellowgreen', 'lightcoral', 'lightskyblue', 'thistle'] ",
" ",
"def my_autopct(pct): ## Defining a function we'll point to in plt.pie() that ",
" return ('%.2f' % pct) if pct > 1.5 else '' ## returns '' (empty string) for percentages below 1.5 ",
" ",
"# Plot ",
"plt.pie(size_list, labels=label_list, colors=color_list, autopct=my_autopct, shadow=True, startangle=100) ",
" ",
"plt.show()"
]
},
{
cell_type: "code",
execution_count: null,
metadata: { },
outputs: [ ],
source: [ ]
},
{
cell_type: "markdown",
metadata: { },
source: [
"## *Bar Graph: Medium*"
]
},
{
cell_type: "code",
execution_count: null,
metadata: { },
outputs: [ ],
source: [
"## Creating lists of rows that contain the words 'lithograph', 'woodcut', and 'engraving' in the 'Medium' field ",
" ",
"lithograph_rows = [] ",
"woodcut_rows = [] ",
"engraving_rows = [] ",
" ",
"for row in metadata_table: ",
" medium = row[9] # 'Medium' field located at index 9 in each row ",
" if 'lithograph' in medium.lower(): ",
" lithograph_rows.append(row) ",
" if 'woodcut' in medium.lower(): # Using .lower() on field to standardize it, and looking for a lowercase substring ",
" woodcut_rows.append(row) ",
" if 'engraving' in medium.lower(): ",
" engraving_rows.append(row) ",
" ",
"# Note that these lists of rows overlap slightly. Some items in MoMA's collection may include two or three of the key words."
]
},
{
cell_type: "code",
execution_count: null,
metadata: { },
outputs: [ ],
source: [
"## Plotting a basic bar graph ",
" ",
"import matplotlib.pyplot as plt ",
"import numpy as np ",
" ",
"plt.figure(figsize=(10,7)) ",
" ",
"x_values = [len(lithograph_rows), len(woodcut_rows), len(engraving_rows)] ## Using the length of each category's ",
" # list of rows to set bar heights in plot ",
"x_pos = range(len(x_values)) # Location of labels along x axis ",
" ",
"plt.bar(x_pos, x_values, alpha=0.5) # Plotting the bar graph ",
" ",
"plt.show()"
]
},
{
cell_type: "code",
execution_count: null,
metadata: { },
outputs: [ ],
source: [
"## Plotting bar graph with labels ",
" ",
"import matplotlib.pyplot as plt ",
"import numpy as np ",
" ",
"plt.figure(figsize=(10,7)) ",
" ",
"x_values = [len(lithograph_rows), len(woodcut_rows), len(engraving_rows)] ## Using the length of each category's ",
" # list of rows for bar heights in plot ",
"x_pos = range(len(x_values)) # Location of labels along x axis ",
" ",
"# Setting custom labels, aligned with the position of each bar ",
"x_labels = ['Lithographs', 'Woodcuts', 'Engravings'] # Labels for x axis ",
"plt.xticks(x_pos, x_labels) ",
" ",
"plt.bar(x_pos, x_values, alpha=0.5) # Plotting the bar graph ",
" ",
"# Setting title and y axis label ",
"plt.title('Number of artworks by medium') ",
"plt.ylabel('Number of artworks') ",
" ",
"plt.show()"
]
},
{
cell_type: "code",
execution_count: null,
metadata: { },
outputs: [ ],
source: [ ]
}
],
metadata: {
kernelspec: {
display_name: "Python 3",
language: "python",
name: "python3"
},
language_info: {
codemirror_mode: {
name: "ipython",
version: 3
},
file_extension: ".py",
mimetype: "text/x-python",
name: "python",
nbconvert_exporter: "python",
pygments_lexer: "ipython3",
version: "3.5.2"
}
},
nbformat: 4,
nbformat_minor: 2
}